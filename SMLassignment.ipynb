{
  "nbformat": 4,
  "nbformat_minor": 0,
  "metadata": {
    "colab": {
      "name": "SMLassignment.ipynb",
      "provenance": [],
      "collapsed_sections": [],
      "authorship_tag": "ABX9TyPsvVw2o3OHVX5StIOCybsG",
      "include_colab_link": true
    },
    "kernelspec": {
      "name": "python3",
      "display_name": "Python 3"
    }
  },
  "cells": [
    {
      "cell_type": "markdown",
      "metadata": {
        "id": "view-in-github",
        "colab_type": "text"
      },
      "source": [
        "<a href=\"https://colab.research.google.com/github/Jahnvi13/Statistical-Machine-Learning-Assignments/blob/main/SMLassignment.ipynb\" target=\"_parent\"><img src=\"https://colab.research.google.com/assets/colab-badge.svg\" alt=\"Open In Colab\"/></a>"
      ]
    },
    {
      "cell_type": "markdown",
      "metadata": {
        "id": "e-gK-3nqI_9N"
      },
      "source": [
        "## SML Assignment "
      ]
    },
    {
      "cell_type": "code",
      "metadata": {
        "id": "l7KsuelxJvv9"
      },
      "source": [
        "import numpy as np\n",
        "import matplotlib.pyplot as plt\n",
        "from sklearn.model_selection import train_test_split\n",
        "from sklearn.metrics import accuracy_score\n"
      ],
      "execution_count": null,
      "outputs": []
    },
    {
      "cell_type": "code",
      "metadata": {
        "id": "K225SzI7I1aU",
        "colab": {
          "base_uri": "https://localhost:8080/",
          "height": 513
        },
        "outputId": "133b70fb-341a-42b2-dea2-ece60d5d74d3"
      },
      "source": [
        "#A\n",
        "#1\n",
        "mean1=[0, 0]\n",
        "cov1=[[1, 0],[0, 1]]\n",
        "x1, x2=np.random.default_rng().multivariate_normal(mean1, cov1, 100).T\n",
        "plt.plot(x1, x2, 'x')\n",
        "plt.axis('equal')\n",
        "plt.show()\n",
        "data=[]\n",
        "for i in range(100):\n",
        "  data.append([x1[i], x2[i]])\n",
        "#now data is the 2x1 matrix containing all the points of class 1\n",
        "\n",
        "mean2=[1.5, 1.5]\n",
        "cov2=[[0.8, 0],[0, 0.8]]\n",
        "X1, X2=np.random.default_rng().multivariate_normal(mean2, cov2, 100).T\n",
        "plt.plot(X1, X2, 'x')\n",
        "plt.axis('equal')\n",
        "plt.show()\n",
        "\n",
        "data2=[]\n",
        "for i in range(100):\n",
        "  data2.append([X1[i], X2[i]])\n",
        "\n",
        "#data2 is the 2x1 matrix containing all the points of class 2\n"
      ],
      "execution_count": null,
      "outputs": [
        {
          "output_type": "display_data",
          "data": {
            "image/png": "[encoded data removed]",
            "text/plain": [
              "<Figure size 432x288 with 1 Axes>"
            ]
          },
          "metadata": {
            "tags": [],
            "needs_background": "light"
          }
        },
        {
          "output_type": "display_data",
          "data": {
            "image/png": "[encoded data removed]",
            "text/plain": [
              "<Figure size 432x288 with 1 Axes>"
            ]
          },
          "metadata": {
            "tags": [],
            "needs_background": "light"
          }
        }
      ]
    },
    {
      "cell_type": "code",
      "metadata": {
        "id": "hBAmcXM6Rp59"
      },
      "source": [
        "data"
      ],
      "execution_count": null,
      "outputs": []
    },
    {
      "cell_type": "code",
      "metadata": {
        "id": "QRxP6C9wT1a5"
      },
      "source": [
        "#2\n",
        "#splitting of class 1 data points into train-test bundles\n",
        "arr_of_one=[]\n",
        "for i in range(100):\n",
        "  arr_of_one.append(1)\n",
        "x_train, x_test, y_train, y_test = train_test_split(data, arr_of_one, test_size=0.5 )\n",
        "#x_train, x_test, y_train, y_test = train_test_split([item[0] for item in data], [item[1] for item in data], test_size=0.5 )\n",
        "x_test"
      ],
      "execution_count": null,
      "outputs": []
    },
    {
      "cell_type": "code",
      "metadata": {
        "colab": {
          "base_uri": "https://localhost:8080/"
        },
        "id": "I3kW8DRgPoPd",
        "outputId": "c799fca4-effe-40c4-8345-6107e46d15f4"
      },
      "source": [
        "x1mean=sum(item[0] for item in x_train)/50\n",
        "x2mean=sum(item[1] for item in x_train)/50\n",
        "mu=[x1mean, x2mean]\n",
        "print(mu)\n",
        "\n",
        "x1cov=sum((item[0]-x1mean)*(item[0]-x1mean) for item in x_train)/50\n",
        "x2cov=sum((item[1]-x2mean)*(item[1]-x2mean) for item in x_train)/50\n",
        "cov=[[x1cov,0], [0,x2cov] ]\n",
        "print(cov)"
      ],
      "execution_count": null,
      "outputs": [
        {
          "output_type": "stream",
          "text": [
            "[0.03717631849228136, -0.1847825040492685]\n",
            "[[1.0724045596477338, 0], [0, 1.1456543879261818]]\n"
          ],
          "name": "stdout"
        }
      ]
    },
    {
      "cell_type": "code",
      "metadata": {
        "id": "uVAyTv-zQQNB"
      },
      "source": [
        "#3\n",
        "#splitting of class 2 data points into train-test bundles\n",
        "arr_of_two=[]\n",
        "for i in range(100):\n",
        "  arr_of_two.append(2)\n",
        "x_train2, x_test2, y_train2, y_test2 = train_test_split(data2, arr_of_two, test_size=0.5 )\n",
        "#x_train2, x_test2, y_train2, y_test2 = train_test_split([item[0] for item in data2], [item[1] for item in data2], test_size=0.5 )"
      ],
      "execution_count": null,
      "outputs": []
    },
    {
      "cell_type": "code",
      "metadata": {
        "colab": {
          "base_uri": "https://localhost:8080/"
        },
        "id": "gEUgPWE_VAhL",
        "outputId": "ecf98bc9-997a-4f57-f7f3-753d8f9348d3"
      },
      "source": [
        "x1mean=sum(item[0] for item in x_train2)/50\n",
        "x2mean=sum(item[1] for item in x_train2)/50\n",
        "mu2=[x1mean, x2mean]\n",
        "print(mu2)\n",
        "x1cov=sum((item[0]-x1mean)*(item[0]-x1mean) for item in x_train2)/50\n",
        "x2cov=sum((item[1]-x2mean)*(item[1]-x2mean) for item in x_train2)/50\n",
        "cov2=[[x1cov,0], [0,x2cov] ]\n",
        "print(cov2)"
      ],
      "execution_count": null,
      "outputs": [
        {
          "output_type": "stream",
          "text": [
            "[1.682126403742317, 1.5239397808561386]\n",
            "[[0.9932785939302556, 0], [0, 1.0709075292932222]]\n"
          ],
          "name": "stdout"
        }
      ]
    },
    {
      "cell_type": "code",
      "metadata": {
        "colab": {
          "base_uri": "https://localhost:8080/",
          "height": 265
        },
        "id": "2nbM7GZeVZqr",
        "outputId": "88241478-5cfb-4523-b400-8de9cecd2458"
      },
      "source": [
        "#4\n",
        "plt.scatter([item[0] for item in x_train], [item[1] for item in x_train], c='g')\n",
        "plt.scatter([item[0] for item in x_train2], [item[1] for item in x_train2], c='b')\n",
        "plt.axis('equal')\n",
        "plt.show()"
      ],
      "execution_count": null,
      "outputs": [
        {
          "output_type": "display_data",
          "data": {
            "image/png": "[encoded data removed]",
            "text/plain": [
              "<Figure size 432x288 with 1 Axes>"
            ]
          },
          "metadata": {
            "tags": [],
            "needs_background": "light"
          }
        }
      ]
    },
    {
      "cell_type": "code",
      "metadata": {
        "id": "WA0R2j0dCC2n"
      },
      "source": [
        ""
      ],
      "execution_count": null,
      "outputs": []
    },
    {
      "cell_type": "code",
      "metadata": {
        "colab": {
          "base_uri": "https://localhost:8080/"
        },
        "id": "GTDM_mRC6ukh",
        "outputId": "993861b9-5d65-452d-ea99-175248782b58"
      },
      "source": [
        "import math\n",
        "\n",
        "det1=cov[0][0]*cov[1][1]-cov[0][1]*cov[1][0] \n",
        "inv1=[[cov[1][1]/det1, -cov[0][1]/det1], [-cov[1][0]/det1, cov[0][0]/det1]]\n",
        "\n",
        "det2=cov2[0][0]*cov2[1][1]-cov2[0][1]*cov2[1][0] \n",
        "inv2=[[cov2[1][1]/det2, -cov2[0][1]/det2], [-cov2[1][0]/det2, cov2[0][0]/det2]]\n",
        "\n",
        "m1=mu[0]\n",
        "m2=mu[1]\n",
        "t3=inv1[0][0]*m1*m1 + (inv1[0][1]+inv1[1][0])*m1*m2 + inv1[1][1]*m2*m2\n",
        "\n",
        "m1d=mu2[0]\n",
        "m2d=mu2[1]\n",
        "t3d=inv2[0][0]*m1d*m1d + (inv2[0][1]+inv2[1][0])*m1d*m2d + inv2[1][1]*m2d*m2d\n",
        "ct=0\n",
        "for i in range(0,len(x_test)):\n",
        "  item=x_test[i]\n",
        "\n",
        "  x1=item[0]\n",
        "  x2=item[1]\n",
        "  t1=inv1[0][0]*x1*x1 + (inv1[0][1]+inv1[1][0])*x1*x2 + inv1[1][1]*x2*x2\n",
        "  t2=2*(inv1[0][0]*m1*x1 + inv1[0][1]*m1*x2 + inv1[1][0]*x1*m2 + inv1[1][1]*m2*x2)\n",
        "  \n",
        "  g1=np.log(1/math.sqrt(det1)) - 1/2*(t1-t2+t3)\n",
        "  \n",
        "  t1=inv2[0][0]*x1*x1 + (inv2[0][1]+inv2[1][0])*x1*x2 + inv2[1][1]*x2*x2\n",
        "  t2=2*(inv2[0][0]*m1d*x1 + inv2[0][1]*m1d*x2 + inv2[1][0]*x1*m2d + inv2[1][1]*m2d*x2)\n",
        "  \n",
        "  g2=np.log(1/math.sqrt(det2)) - 1/2*(t1-t2+t3d)\n",
        "  #print(str(g1)+\" \"+str(g2))\n",
        "  if(g1>g2):\n",
        "    ypred=1\n",
        "  else:\n",
        "    ypred=2\n",
        "  \n",
        "  if(ypred==y_test[i]):\n",
        "    ct+=1 \n",
        "\n",
        "print(ct)\n",
        "ct=0\n",
        "for i in range(0,len(x_test2)):\n",
        "  item=x_test2[i]\n",
        "\n",
        "  x1=item[0]\n",
        "  x2=item[1]\n",
        "  t1=inv1[0][0]*x1*x1 + (inv1[0][1]+inv1[1][0])*x1*x2 + inv1[1][1]*x2*x2\n",
        "  t2=2*(inv1[0][0]*m1*x1 + inv1[0][1]*m1*x2 + inv1[1][0]*x1*m2 + inv1[1][1]*m2*x2)\n",
        "  \n",
        "  g1=np.log(1/math.sqrt(det1)) - 1/2*(t1-t2+t3)\n",
        "  \n",
        "  t1=inv2[0][0]*x1*x1 + (inv2[0][1]+inv2[1][0])*x1*x2 + inv2[1][1]*x2*x2\n",
        "  t2=2*(inv2[0][0]*m1d*x1 + inv2[0][1]*m1d*x2 + inv2[1][0]*x1*m2d + inv2[1][1]*m2d*x2)\n",
        "  \n",
        "  g2=np.log(1/math.sqrt(det2)) - 1/2*(t1-t2+t3d)\n",
        "  #print(str(g1)+\" \"+str(g2))\n",
        "  if(g1>g2):\n",
        "    ypred=1\n",
        "  else:\n",
        "    ypred=2\n",
        "  \n",
        "  if(ypred==y_test2[i]):\n",
        "    ct+=1 \n",
        "print(ct)\n",
        "#plt.plot(x,y)\n"
      ],
      "execution_count": null,
      "outputs": [
        {
          "output_type": "stream",
          "text": [
            "42\n",
            "46\n"
          ],
          "name": "stdout"
        }
      ]
    },
    {
      "cell_type": "code",
      "metadata": {
        "id": "jzp61hhepyvU"
      },
      "source": [
        "from scipy.stats import bernoulli"
      ],
      "execution_count": null,
      "outputs": []
    },
    {
      "cell_type": "code",
      "metadata": {
        "id": "SJwq3-IvPAfL",
        "colab": {
          "base_uri": "https://localhost:8080/"
        },
        "outputId": "20494b32-705a-4e38-91c6-89dd05754f81"
      },
      "source": [
        "#B\n",
        "#1\n",
        "r=bernoulli.rvs(0.2, size=1000)\n",
        "r"
      ],
      "execution_count": null,
      "outputs": [
        {
          "output_type": "execute_result",
          "data": {
            "text/plain": [
              "array([0, 0, 0, 1, 0, 0, 0, 0, 1, 0, 1, 0, 0, 0, 1, 0, 1, 1, 0, 0, 0, 1,\n",
              "       0, 0, 0, 0, 0, 0, 0, 1, 0, 0, 1, 1, 0, 0, 0, 0, 1, 0, 0, 0, 0, 0,\n",
              "       0, 0, 1, 1, 0, 1, 0, 0, 0, 0, 0, 0, 1, 0, 0, 1, 0, 1, 0, 1, 0, 0,\n",
              "       0, 0, 0, 0, 0, 0, 0, 0, 0, 1, 0, 0, 1, 1, 0, 1, 0, 0, 0, 0, 0, 0,\n",
              "       0, 0, 1, 0, 0, 0, 0, 0, 0, 0, 0, 0, 0, 0, 0, 0, 0, 0, 1, 0, 1, 1,\n",
              "       0, 0, 0, 0, 0, 0, 0, 0, 0, 1, 0, 0, 0, 1, 0, 1, 0, 0, 1, 0, 0, 0,\n",
              "       0, 0, 0, 0, 0, 0, 0, 0, 0, 0, 0, 1, 1, 0, 1, 0, 0, 0, 0, 0, 0, 1,\n",
              "       0, 1, 0, 1, 0, 0, 0, 0, 0, 0, 0, 0, 0, 0, 0, 0, 0, 0, 1, 0, 0, 0,\n",
              "       0, 0, 0, 0, 0, 0, 1, 0, 0, 0, 1, 0, 0, 0, 1, 0, 0, 1, 0, 0, 0, 1,\n",
              "       0, 0, 0, 0, 0, 0, 1, 0, 0, 0, 0, 1, 0, 1, 0, 0, 0, 1, 0, 0, 0, 0,\n",
              "       0, 1, 1, 1, 1, 0, 1, 0, 1, 0, 1, 1, 0, 0, 0, 0, 0, 0, 0, 0, 0, 1,\n",
              "       0, 0, 0, 0, 0, 0, 1, 1, 0, 0, 0, 0, 0, 1, 0, 0, 1, 0, 1, 0, 0, 0,\n",
              "       1, 1, 1, 0, 0, 1, 0, 0, 0, 0, 0, 0, 0, 0, 0, 0, 1, 1, 0, 0, 1, 0,\n",
              "       0, 0, 0, 0, 0, 1, 0, 0, 0, 0, 0, 0, 0, 1, 1, 0, 1, 0, 0, 0, 0, 0,\n",
              "       0, 0, 0, 0, 0, 0, 0, 0, 1, 0, 0, 1, 0, 0, 1, 1, 0, 0, 1, 1, 0, 0,\n",
              "       0, 0, 0, 1, 0, 0, 0, 0, 0, 1, 0, 0, 1, 1, 0, 1, 1, 0, 0, 0, 0, 1,\n",
              "       0, 0, 0, 0, 0, 1, 0, 0, 0, 1, 0, 0, 1, 0, 0, 0, 0, 0, 0, 0, 0, 1,\n",
              "       0, 0, 0, 0, 0, 0, 0, 0, 0, 0, 0, 0, 0, 1, 1, 0, 0, 0, 0, 0, 0, 0,\n",
              "       0, 1, 0, 0, 1, 0, 0, 0, 0, 0, 0, 0, 0, 0, 0, 0, 0, 1, 0, 0, 0, 0,\n",
              "       0, 0, 0, 1, 0, 0, 0, 0, 1, 0, 0, 0, 0, 1, 0, 0, 0, 0, 0, 1, 0, 0,\n",
              "       0, 0, 0, 0, 1, 0, 0, 0, 0, 1, 0, 0, 0, 0, 0, 0, 0, 0, 0, 0, 1, 1,\n",
              "       0, 1, 0, 0, 0, 0, 1, 0, 0, 0, 1, 0, 0, 0, 0, 0, 0, 0, 0, 0, 0, 0,\n",
              "       0, 0, 0, 1, 0, 0, 0, 0, 0, 1, 0, 0, 0, 0, 0, 0, 0, 0, 1, 0, 0, 0,\n",
              "       1, 1, 0, 1, 0, 0, 0, 1, 0, 0, 1, 0, 0, 0, 1, 0, 0, 0, 0, 0, 0, 0,\n",
              "       1, 0, 0, 1, 0, 0, 0, 0, 1, 0, 1, 0, 0, 1, 0, 0, 0, 1, 1, 0, 1, 0,\n",
              "       1, 0, 0, 0, 0, 0, 0, 0, 0, 0, 0, 0, 0, 1, 1, 1, 1, 1, 0, 1, 1, 1,\n",
              "       0, 0, 0, 0, 0, 1, 0, 0, 0, 0, 0, 0, 0, 0, 1, 0, 0, 0, 0, 1, 1, 0,\n",
              "       0, 0, 0, 0, 0, 0, 0, 0, 0, 0, 1, 0, 1, 0, 1, 0, 0, 0, 0, 0, 0, 0,\n",
              "       0, 0, 0, 0, 0, 0, 0, 0, 0, 0, 0, 0, 0, 0, 0, 0, 0, 1, 0, 1, 1, 0,\n",
              "       0, 0, 1, 1, 0, 0, 0, 0, 0, 0, 0, 0, 0, 1, 0, 0, 0, 0, 0, 0, 1, 1,\n",
              "       0, 0, 0, 0, 0, 0, 1, 0, 0, 0, 0, 1, 0, 0, 0, 1, 0, 1, 0, 0, 0, 0,\n",
              "       0, 0, 0, 0, 0, 0, 0, 0, 0, 0, 1, 0, 0, 0, 0, 0, 0, 0, 0, 1, 0, 0,\n",
              "       1, 0, 0, 1, 0, 0, 0, 0, 0, 0, 1, 1, 1, 0, 0, 0, 0, 0, 0, 0, 1, 0,\n",
              "       0, 1, 1, 0, 0, 0, 0, 1, 1, 0, 1, 0, 0, 0, 0, 0, 0, 1, 0, 0, 0, 0,\n",
              "       0, 0, 0, 0, 0, 0, 0, 0, 0, 1, 1, 0, 0, 0, 0, 0, 0, 0, 1, 0, 0, 0,\n",
              "       0, 0, 0, 0, 1, 0, 0, 0, 0, 0, 0, 0, 0, 1, 1, 0, 0, 0, 0, 0, 0, 0,\n",
              "       0, 0, 0, 0, 0, 0, 1, 0, 0, 0, 0, 0, 0, 0, 0, 0, 0, 0, 0, 0, 0, 0,\n",
              "       1, 0, 0, 0, 1, 0, 0, 1, 0, 0, 0, 0, 0, 0, 0, 0, 0, 0, 1, 1, 1, 0,\n",
              "       0, 0, 0, 0, 0, 0, 0, 0, 0, 0, 0, 0, 0, 0, 0, 0, 0, 0, 0, 0, 0, 0,\n",
              "       0, 1, 0, 0, 0, 0, 0, 1, 0, 0, 1, 1, 0, 0, 0, 0, 0, 0, 1, 0, 0, 0,\n",
              "       0, 0, 0, 0, 1, 0, 0, 1, 0, 1, 0, 0, 0, 1, 0, 0, 0, 0, 0, 0, 0, 0,\n",
              "       1, 0, 0, 0, 0, 0, 0, 0, 0, 0, 0, 0, 0, 0, 0, 0, 1, 1, 0, 0, 1, 1,\n",
              "       0, 0, 0, 0, 0, 0, 0, 0, 0, 1, 0, 0, 0, 0, 0, 0, 0, 0, 0, 1, 0, 0,\n",
              "       1, 0, 0, 0, 0, 0, 0, 0, 0, 1, 0, 1, 0, 0, 1, 0, 0, 0, 0, 0, 0, 0,\n",
              "       0, 0, 0, 0, 0, 0, 0, 0, 0, 0, 0, 0, 0, 0, 0, 0, 0, 1, 0, 0, 0, 0,\n",
              "       0, 0, 0, 0, 0, 1, 0, 0, 1, 1])"
            ]
          },
          "metadata": {
            "tags": []
          },
          "execution_count": 11
        }
      ]
    },
    {
      "cell_type": "code",
      "metadata": {
        "colab": {
          "base_uri": "https://localhost:8080/"
        },
        "id": "jWqSSIuePPg8",
        "outputId": "d1ef8d56-6a15-41a6-edb2-e2543b35fda3"
      },
      "source": [
        "#2\n",
        "sum(r)/1000"
      ],
      "execution_count": null,
      "outputs": [
        {
          "output_type": "execute_result",
          "data": {
            "text/plain": [
              "0.2"
            ]
          },
          "metadata": {
            "tags": []
          },
          "execution_count": 12
        }
      ]
    },
    {
      "cell_type": "code",
      "metadata": {
        "colab": {
          "base_uri": "https://localhost:8080/",
          "height": 269
        },
        "id": "FvGFAdAPVsC9",
        "outputId": "b5d97105-c1f3-4da1-e38b-fcdcdfb7f6a5"
      },
      "source": [
        "#3\n",
        "x=[]\n",
        "y=[]\n",
        "for i in range(1,1000):\n",
        "  x.append(i)\n",
        "  y.append(sum(r[:i]/i))\n",
        "\n",
        "plt.scatter(x,y, c='b')\n",
        "plt.show()"
      ],
      "execution_count": null,
      "outputs": [
        {
          "output_type": "display_data",
          "data": {
            "image/png": "[encoded data removed]",
            "text/plain": [
              "<Figure size 432x288 with 1 Axes>"
            ]
          },
          "metadata": {
            "tags": [],
            "needs_background": "light"
          }
        }
      ]
    },
    {
      "cell_type": "markdown",
      "metadata": {
        "id": "zqnkrttJaCmn"
      },
      "source": [
        "Observation: MLE gives incorrect estimates for low values of n but as the sample size grows, the estimate of p comes closer and closer to the real value"
      ]
    },
    {
      "cell_type": "code",
      "metadata": {
        "id": "qTWIm72JhH89",
        "colab": {
          "base_uri": "https://localhost:8080/",
          "height": 265
        },
        "outputId": "310d9fe3-efc6-44dc-b1be-f35489341640"
      },
      "source": [
        "x=[]\n",
        "y=[]\n",
        "for i in range(1,1000):\n",
        "  x.append(i)\n",
        "  y.append((sum(r[:i])+1)/(i+5))\n",
        "\n",
        "plt.scatter(x,y, c='b')\n",
        "plt.show()"
      ],
      "execution_count": null,
      "outputs": [
        {
          "output_type": "display_data",
          "data": {
            "image/png": "[encoded data removed]",
            "text/plain": [
              "<Figure size 432x288 with 1 Axes>"
            ]
          },
          "metadata": {
            "tags": [],
            "needs_background": "light"
          }
        }
      ]
    },
    {
      "cell_type": "markdown",
      "metadata": {
        "id": "SZrZW7SGYyQd"
      },
      "source": [
        "For lesser values of n, the deviation of theta's estimate from real value was less in MAP than in MLE."
      ]
    },
    {
      "cell_type": "code",
      "metadata": {
        "id": "50x1TR9EW1uk",
        "colab": {
          "base_uri": "https://localhost:8080/",
          "height": 513
        },
        "outputId": "d3410986-e6c7-4f1e-f5f3-6a3a4433342b"
      },
      "source": [
        "#C\n",
        "#1\n",
        "mean1=[-1, -1]\n",
        "cov1=[[2, 0.5],[0.5, 1]]\n",
        "x1, x2=np.random.default_rng().multivariate_normal(mean1, cov1, 100).T\n",
        "plt.plot(x1, x2, 'x')\n",
        "#plt.axis('equal')\n",
        "plt.show()\n",
        "X1=[]\n",
        "for i in range(100):\n",
        "  X1.append([x1[i], x2[i]])\n",
        "#now data is the 2x1 matrix containing all the points of class 1\n",
        "\n",
        "mean2=[1, 1]\n",
        "cov2=[[2, 0.5],[0.5, 1]]\n",
        "d1, d2=np.random.default_rng().multivariate_normal(mean2, cov2, 100).T\n",
        "plt.plot(d1, d2, 'x')\n",
        "#plt.axis('equal')\n",
        "plt.show()\n",
        "\n",
        "X2=[]\n",
        "for i in range(100):\n",
        "  X2.append([d1[i], d2[i]])"
      ],
      "execution_count": null,
      "outputs": [
        {
          "output_type": "display_data",
          "data": {
            "image/png": "[encoded data removed]",
            "text/plain": [
              "<Figure size 432x288 with 1 Axes>"
            ]
          },
          "metadata": {
            "tags": [],
            "needs_background": "light"
          }
        },
        {
          "output_type": "display_data",
          "data": {
            "image/png": "[encoded data removed]",
            "text/plain": [
              "<Figure size 432x288 with 1 Axes>"
            ]
          },
          "metadata": {
            "tags": [],
            "needs_background": "light"
          }
        }
      ]
    },
    {
      "cell_type": "code",
      "metadata": {
        "colab": {
          "base_uri": "https://localhost:8080/"
        },
        "id": "oR6zxejQhzHr",
        "outputId": "9bbc3b9a-66a7-439f-a8a4-e0dc1afb6eee"
      },
      "source": [
        "list1=[item[0] for item in data]\n",
        "list2=[item[0] for item in data2]\n",
        "listf=list1+list2\n",
        "\n",
        "list1=[item[1] for item in data]\n",
        "list2=[item[1] for item in data2]\n",
        "listf2=list1+list2\n",
        "\n",
        "z=np.array([listf, listf2])\n",
        "z.shape"
      ],
      "execution_count": null,
      "outputs": [
        {
          "output_type": "execute_result",
          "data": {
            "text/plain": [
              "(2, 200)"
            ]
          },
          "metadata": {
            "tags": []
          },
          "execution_count": 16
        }
      ]
    },
    {
      "cell_type": "code",
      "metadata": {
        "colab": {
          "base_uri": "https://localhost:8080/",
          "height": 265
        },
        "id": "aO-y89ziljMd",
        "outputId": "bf10906e-c62c-4409-f5f4-73bd9ba918e0"
      },
      "source": [
        "#2\n",
        "plt.scatter([item[0] for item in data], [item[1] for item in data], c='g')\n",
        "plt.scatter([item[0] for item in data2], [item[1] for item in data2], c='b')\n",
        "plt.show()"
      ],
      "execution_count": null,
      "outputs": [
        {
          "output_type": "display_data",
          "data": {
            "image/png": "[encoded data removed]",
            "text/plain": [
              "<Figure size 432x288 with 1 Axes>"
            ]
          },
          "metadata": {
            "tags": [],
            "needs_background": "light"
          }
        }
      ]
    },
    {
      "cell_type": "code",
      "metadata": {
        "colab": {
          "base_uri": "https://localhost:8080/"
        },
        "id": "59B7UT2Lnnxu",
        "outputId": "6447b599-f274-477b-8e5d-0c91ee6bc4e8"
      },
      "source": [
        "#3\n",
        "muz=[]\n",
        "muz.append(sum(z[0])/200)\n",
        "muz.append(sum(z[1])/200)\n",
        "z2=np.array(muz)\n",
        "z2\n"
      ],
      "execution_count": null,
      "outputs": [
        {
          "output_type": "execute_result",
          "data": {
            "text/plain": [
              "array([0.79582257, 0.76083638])"
            ]
          },
          "metadata": {
            "tags": []
          },
          "execution_count": 18
        }
      ]
    },
    {
      "cell_type": "code",
      "metadata": {
        "id": "b6LojwwVoI_V",
        "colab": {
          "base_uri": "https://localhost:8080/"
        },
        "outputId": "ea8686ae-b3b7-4d5b-ece4-b6545c262e7c"
      },
      "source": [
        "#centralised data\n",
        "X=[]\n",
        "for i in range(200):\n",
        "  X.append([z[0][i]-muz[0], z[1][i]-muz[1]]) \n",
        "\n",
        "a=sum(item[0]*item[0] for item in X)/200\n",
        "b=sum(item[0]*item[1] for item in X)/200\n",
        "c=sum(item[1]*item[0] for item in X)/200\n",
        "d=sum(item[1]*item[1] for item in X)/200\n",
        "S=[[a, b], [c, d]]\n",
        "S"
      ],
      "execution_count": null,
      "outputs": [
        {
          "output_type": "execute_result",
          "data": {
            "text/plain": [
              "[[1.6083395058844578, 0.6573930160424755],\n",
              " [0.6573930160424755, 1.6566215898494767]]"
            ]
          },
          "metadata": {
            "tags": []
          },
          "execution_count": 19
        }
      ]
    },
    {
      "cell_type": "code",
      "metadata": {
        "colab": {
          "base_uri": "https://localhost:8080/"
        },
        "id": "9Ow5FFQ3ILyK",
        "outputId": "895305eb-36b3-45f2-859f-0f2c6237cae3"
      },
      "source": [
        "#4\n",
        "eigenvalue, eigenvector=np.linalg.eig(S)\n",
        "print(eigenvalue)\n",
        "print(eigenvector)"
      ],
      "execution_count": null,
      "outputs": [
        {
          "output_type": "stream",
          "text": [
            "[0.97464442 2.29031667]\n",
            "[[-0.71996446 -0.69401093]\n",
            " [ 0.69401093 -0.71996446]]\n"
          ],
          "name": "stdout"
        }
      ]
    },
    {
      "cell_type": "code",
      "metadata": {
        "colab": {
          "base_uri": "https://localhost:8080/"
        },
        "id": "ZPPhy5U2J9iN",
        "outputId": "73398f12-60d1-4df5-d4ee-894a782cec1b"
      },
      "source": [
        "U=[[eigenvector[0][0], eigenvector[1][0]], [eigenvector[0][1], eigenvector[1][1]]]\n",
        "print(U)"
      ],
      "execution_count": null,
      "outputs": [
        {
          "output_type": "stream",
          "text": [
            "[[-0.7199644620407786, 0.6940109317570813], [-0.6940109317570813, -0.7199644620407786]]\n"
          ],
          "name": "stdout"
        }
      ]
    },
    {
      "cell_type": "code",
      "metadata": {
        "colab": {
          "base_uri": "https://localhost:8080/"
        },
        "id": "oiu8zJssKi_X",
        "outputId": "f6d9eca0-39bf-46c9-adc6-74395ec2e93d"
      },
      "source": [
        "#5\n",
        "Y=[]\n",
        "for i in range(200):\n",
        "  Y.append(U[0][0]*X[i][0] + U[0][1]*X[i][1])\n",
        "print(Y)"
      ],
      "execution_count": null,
      "outputs": [
        {
          "output_type": "stream",
          "text": [
            "[0.12014428627612284, 0.6996173534469043, -0.47246380347748995, -0.7016494029227074, -0.19864629816454576, -0.5757833439384735, 1.212649577309619, -0.5420281623658816, 0.6271832761309128, 0.054455622087572375, 1.3799159489154322, -1.032377783900281, -1.8642348081576248, -1.3485758439065902, -0.1345486965827789, -0.13590063526858953, -0.8423747703222527, 1.0014728215887807, 0.6864274098293237, 1.6910202749699583, -1.237374064038673, -0.6434994344579983, 0.7970222784323526, -0.6690849895227663, -0.3786721944537259, 0.17341222412952795, -1.893504194168392, -0.21173140074072483, 0.1593862258652119, 1.517745707919582, 0.9384845302642474, 0.25911578224924375, -1.8532998829721108, -1.738942460608536, 0.3296143863074541, 1.524090697395422, 0.7342118230011296, -0.4773119877042078, -1.041954846870618, 1.5842108786007907, -1.073120745750157, -0.9819450409846269, 0.07511179432447138, -1.1404562372160028, -1.0291712400525936, -0.9367365455972749, -0.9114922028690154, -0.12343176513261178, 0.3773063540981165, 0.9434201563142784, 0.820941544039416, -1.0969265000859816, 0.9856131029844533, 0.4139350968399567, -0.37417267470848875, 1.9185993536946553, -0.10853861546237899, 0.7873696230729261, -1.437637488432393, -2.344004215176537, 0.16241401607764117, -0.7760594599063594, 0.1458633337290594, 1.2169624368683734, 0.7128116992765687, 2.4386382028457683, 0.16490944909594518, 2.1256354029621245, 1.1709055155822043, 0.4350211334617348, 0.9656853932360908, 0.2078509543040461, 1.6980009076096025, 0.31060829118395095, 0.8819134122540601, 0.28952573385907066, -0.5112104983046398, -1.3645095357333852, 1.469272282836022, 1.1714434674041097, -0.05160538609713594, 2.159629852000837, 0.5827171346867196, -0.16561204193559198, -0.4591087021153099, -0.8410630716945435, -0.36179387413665315, 1.6867354284970233, -0.15430524303548204, -1.3317151940865763, -2.353317996649089, -1.0883727961992682, -0.7424233742860125, -0.6462735217770095, -0.15713022877554417, -0.44166004974514506, 0.08217131880722972, -1.4393687784577065, 1.9704805422000147, -0.7516864817834146, 0.6617626622993265, 0.782860558772029, 0.38624293538201393, -0.47587940506519666, 0.3148941703250506, -0.17448917886848914, -1.4500233325991503, -1.5219781130227692, 1.204139503067151, 1.5046684142324827, -0.2538399514357632, -0.6759253138549182, -0.5345680006975565, 1.4844717350742225, 1.057727034823051, -0.21374979628601853, -0.19705365440967726, -0.12474708711515659, -0.7091521415777662, 0.5503287349436243, 0.9618138524394472, 0.6291858619334029, -0.8142823620012293, -0.22589778793462473, 0.6145331850953537, -1.5762361366072108, -0.9465108232601285, 1.4014709395734615, -0.5670648275554192, 0.3695805653939286, 0.34555045558587605, -0.04515137669972036, -1.4191451858043378, 1.2961272433113966, -0.8866185399785572, -0.4923691566719598, 2.2851003783950365, 0.9637047909707771, 0.3099773178130687, -0.6731883067968882, 0.6871054757871359, -1.6252133740277495, -1.8471196075558318, 0.7291917245844564, -0.7923028451342133, 0.2504090678058426, 0.0027450496799621416, -0.40265731800637444, 0.5435112393131663, -0.16626588758640193, -0.8877575061959999, -1.6424212715799005, 1.1563697430352136, 1.1937931337625556, 1.2918353618513019, -0.8846500834762938, -0.24722874832088992, 0.11215703032135507, 1.1924965136443184, 0.5082890260909735, -0.20828417137239355, -0.4808461916844235, 0.25587386262758516, 1.247522267555186, -1.2774512227833288, -2.296091080133923, 0.010094184964379194, -0.780707728784184, -0.6771035972121772, 0.04175821342773328, 0.815554722454419, 0.4342182353308018, -0.4687118726669088, -1.695125414479982, -0.14277596461064396, 0.7591024995525224, -0.4399961911338492, 0.5418668491718656, 0.9494590676451762, -0.16025384249259844, 0.6614074911390116, 1.9306778644652849, 0.3294955349285797, 1.1039364904570967, -1.8373738076203159, -0.048498852367152775, 0.4153431895748019, -1.2661384635719601, -0.31952173080723223, -0.05383230079321344, 0.2580588391359899, 0.012549606297386662, -0.6513560954456823, 1.009129988686029, 0.06142458993766864, 0.07559655233662921, 0.06300541602640619, -0.1286102258174472, -0.6798444649076376, -0.35497436034443103]\n"
          ],
          "name": "stdout"
        }
      ]
    },
    {
      "cell_type": "code",
      "metadata": {
        "colab": {
          "base_uri": "https://localhost:8080/"
        },
        "id": "QGySRZs_MGdI",
        "outputId": "86df4a09-d899-4aac-95ac-411834b27c0b"
      },
      "source": [
        "#6\n",
        "Y1=[]\n",
        "for i in range(100):\n",
        "  Y1.append(U[0][0]*X1[i][0] + U[0][1]*X1[i][1])\n",
        "print(Y1)\n",
        "\n",
        "Y2=[]\n",
        "for i in range(100):\n",
        "  Y2.append(U[0][0]*X2[i][0] + U[0][1]*X2[i][1])\n",
        "print(Y2)"
      ],
      "execution_count": null,
      "outputs": [
        {
          "output_type": "stream",
          "text": [
            "[-0.192495540486021, 0.8531217782609244, -0.43104434554312965, -1.489046336620249, 1.201586549952407, -0.14977075722039285, 0.49556143729143587, 0.5890248928954053, -0.5793644831389452, 0.2759827278768099, 2.4693106066705335, 1.0321848944891825, -0.5773556520878885, -1.3293931220473234, -0.7651316133904661, 2.7054737573590915, 0.13281764177628608, 0.07826143398475827, 0.21627093557211147, -0.27066112041443274, 0.7287922404251718, -1.4354083870800323, -0.7218420770532799, 0.04711307160708278, 0.7935497673599854, 2.3384154247580335, 0.10018562304626699, -0.6672153394370542, -1.1028959598362946, 0.37517686889154717, -0.2937377659956526, -1.5288014180237481, -0.28724824615190725, 0.08463786280872687, -1.659632796414737, 0.3864637439689107, 0.34860770002146885, 1.2397413718263208, 0.5321062356237373, 0.05154511105281245, 0.048151740421672695, -1.5386233696118132, -0.7719072292142387, 0.6458280913750802, -0.3087750613156676, -0.08744074726042694, 0.39420231353566426, 0.2122189391303153, -0.807073921198376, 1.5048716502721853, -0.6686003373502312, 0.9788198974869758, 0.3812354713523338, 0.24673356154756654, -0.15834671614328133, 0.5091218094796004, 0.43980541526693295, 1.0481790223533376, 0.45922559390484563, -0.12424950677539914, -0.21237806737201126, -1.2418933965409256, 1.6265491559795988, -0.9199428570583694, -0.8543906066311955, 1.2164055627400083, -0.7400268398408175, 0.6218460139307651, 0.8264906455891294, 0.5876425036494053, 0.28599179705185795, -1.2994656748789029, 0.03001138727052466, 0.43367227834193756, 0.8075478554540398, -1.3128007712257657, 1.4516949670125432, 0.8915050034300132, -0.40856199490134215, 0.3663547431748455, -0.648103541824439, 0.6005072590310419, 0.911826022702001, -0.7588752130760051, 2.497094147602289, 0.16090408196567899, -1.4136176720841198, 0.6232684875488566, 0.4100758513581164, 0.6742543458937404, -0.48397755733912795, -0.782673410373282, 0.6698970009553066, -0.2778241766405848, -1.2952988304698474, -0.05387226621311053, 1.8147151702570246, -0.024258551450227595, -2.039213207588591, -0.16581834211160795]\n",
            "[-0.5917273585221823, -0.46524959571292845, -0.5667385634696207, -0.22860902804397348, 0.4535015130391388, -0.917849851987474, 1.7278069264149423, -0.5080946462372393, -0.9315176444193151, 1.95598504169527, 0.0797636792854668, 0.7640012517076031, -0.3742834728686444, 0.4314470698247129, 0.8434949770450503, 0.5918029102814957, -0.48091305307306975, -0.8592827146185067, -0.13211192083632783, -0.04712164561018528, -0.48316720139666314, 0.17408588523853924, -0.5558207896268228, 0.7789062620403207, 1.5720824200983727, -1.2921133013974424, -1.260245427340886, 0.4478831747177982, -0.6655225326025052, -0.21545596776642828, 0.8403234334459492, 1.0849888194191815, 0.24777104585397675, 0.20442183462518027, 0.5662570570630616, 1.4279345621034911, -0.24977807259637125, -0.0022402194852561563, -0.31750762716636705, -0.7245758985406157, 0.6529045064356007, 1.3067242079468495, 0.10772069383550154, 1.350705600013615, 0.5704370817237617, -0.4167134684367494, -0.7197579099128455, -0.6273170447144544, -1.7860491411596136, 1.1710541604615574, 0.4401757695006038, -1.6149504777639945, -0.28394377603848664, -0.7054526033304767, -0.5886450367571785, -0.11490373732805326, -1.1759020324103486, -0.4762021850399481, -0.1931399574160082, -0.7506145168088532, -1.9001614118935717, 0.25573799469329717, 1.1336854179727653, -0.3495905435589019, -0.4778324278088927, -0.03428584479874308, 1.9233294029543626, 0.5403068212647159, -0.7608606299647168, -0.8606339424636906, 0.026215541110855903, 0.9973847247040032, 0.5113645695715936, -1.2498262596982062, -1.6982127107226626, -0.4685769394284287, -0.24029026690115096, -0.18651419787475076, -0.752021478189411, -1.1460758234002975, -1.8859193732867041, 0.7850922382416663, 0.1509720923565252, -1.2634589879968645, -1.1161164302066937, -0.15140407654535193, 0.5689776064115748, 0.4112041644745872, -0.36046190997206606, -0.9833004821525829, -0.7345654006832391, -0.9122973803158549, 1.9812475039948363, -1.3257224315087879, 0.9915855473988266, -0.2849672192038777, -0.018322611047407955, -0.7966635603528396, -0.40522095944165104, 1.9333860160279526]\n"
          ],
          "name": "stdout"
        }
      ]
    },
    {
      "cell_type": "code",
      "metadata": {
        "colab": {
          "base_uri": "https://localhost:8080/",
          "height": 265
        },
        "id": "ziAGNLnkPnMb",
        "outputId": "a70cb33c-98ba-4a95-9157-6d73a6aa7584"
      },
      "source": [
        "plt.scatter([item for item in Y1], [i for i in range(100)], c='g')\n",
        "plt.scatter([item for item in Y2], [i for i in range(100)], c='b')\n",
        "plt.show()"
      ],
      "execution_count": null,
      "outputs": [
        {
          "output_type": "display_data",
          "data": {
            "image/png": "[encoded data removed]",
            "text/plain": [
              "<Figure size 432x288 with 1 Axes>"
            ]
          },
          "metadata": {
            "tags": [],
            "needs_background": "light"
          }
        }
      ]
    },
    {
      "cell_type": "code",
      "metadata": {
        "colab": {
          "base_uri": "https://localhost:8080/"
        },
        "id": "KqU_OeDCQT7k",
        "outputId": "ee49050f-a094-4372-e38a-c3f25b28e7fd"
      },
      "source": [
        "#7\n",
        "fr=[]\n",
        "for i in range(200):\n",
        "  fr.append(U[0][0]*Y[i])\n",
        "sr=[]\n",
        "for i in range(200):\n",
        "  sr.append(U[0][1]*Y[i])\n",
        "\n",
        "X_reconstructed=[fr,sr]\n",
        "print(X_reconstructed)"
      ],
      "execution_count": null,
      "outputs": [
        {
          "output_type": "stream",
          "text": [
            "[[-0.08649961643606208, -0.5036996315087937, 0.34015714810441117, 0.5051626349164805, 0.14301827519442928, 0.41454354547070366, -0.8730646005716974, 0.39024101432870373, -0.45154967000056573, -0.039206112661374984, -0.9934904438223896, 0.7432753158086169, 1.3421828107728984, 0.9709266819793972, 0.09687027995350836, 0.09784362776215012, 0.6064798983517851, -0.7210248412436271, -0.4942033408478141, -1.2174745025687954, 0.8908653523588151, 0.46329672415309797, -0.5738277159260644, 0.4817174145413184, 0.27263052276967786, -0.1248506386567105, 1.3632557285264044, 0.15243908403143647, -0.11475241836175731, -1.0927229721170224, -0.6756755099652917, -0.1865541547733523, 1.3343100532442536, 1.2519767731718925, -0.23731064431874757, -1.09729113905165, -0.5286064201709877, 0.3436476684530747, 0.7501704607979862, -1.1405755329709675, 0.772608800418811, 0.7069655331861071, -0.05407782259373564, 0.82108796130827, 0.7409667181923065, 0.6744170231248793, 0.6562419934929549, 0.08886648438244457, -0.271647166252818, -0.6792289853192367, -0.5910487371212643, 0.7897480975326778, -0.7096064074705444, -0.29801855931617705, 0.26939102845685636, -1.381323351554558, 0.07814394589202261, -0.5668781471029498, 1.0350479009688838, 1.6875997338008928, -0.11693231971322128, 0.5587352315631392, -0.1050164165997168, -0.8761697061837734, -0.5131990916060281, -1.7557328418239446, -0.11872894280380333, -1.5303819493884596, -0.8430103596267222, -0.31319975632914765, -0.6952591646418599, -0.149645300500175, -1.2225003099919012, -0.22362693126765876, -0.6349463154200418, -0.20844823922480743, 0.36805339140149834, 0.9823983738437992, -1.0578238287034634, -0.8433976658207841, 0.03715404403983115, -1.5548567446029886, -0.41953562839666797, 0.11923478467963335, 0.33054194973668916, 0.6055355219549268, 0.26047873196244464, -1.2143895653829815, 0.11109429129211243, 0.958787613302073, 1.6943053254683442, 0.783589734715424, 0.5345184452743286, 0.465293968437384, 0.11312818063072912, 0.31797954011966684, -0.05916042934022846, 1.0362943682605952, -1.4186759635268553, 0.5411875534805216, -0.476445599161008, -0.5636317810492472, -0.27808118718936287, 0.3426162598640501, -0.2267126119378524, 0.12562600779598898, 1.043965268601324, 1.0957701533802773, -0.8669376495477917, -1.0833077854026407, 0.1827557440799066, 0.48664220496930055, 0.3848699630464308, -1.0687668941574537, -0.7615258756123657, 0.15389225709438933, 0.14187162829023278, 0.08981346946601786, 0.5105643401161025, -0.3962171315992687, -0.6924717928549353, -0.45299146061054596, 0.5862543627075095, 0.16263837936655398, -0.44244205401338255, 1.1348340021416456, 0.6814541556842528, -1.0090092710757916, 0.40826652351318427, -0.26608487294456656, -0.2487840478638312, 0.03250738663601471, 1.0217341002553808, -0.933165553467087, 0.6383338401710424, 0.35448829500879936, -1.645191064640362, -0.6938332013973965, -0.22317265286412946, 0.48467165715516425, -0.4946915242403585, 1.1700958725333672, 1.3298604745789084, -0.5249921277150357, 0.5704298916704322, -0.1802856297929663, -0.0019763382161091547, 0.28989895934524207, -0.3913087770252206, 0.11970553031187643, 0.6391538553710663, 1.1824849472373546, -0.8325451199645809, -0.8594886313373336, -0.9300755513405271, 0.6369166214443397, 0.17799591278586455, -0.0807490759994057, -0.8585551109314357, -0.365950035230819, 0.14995720139373467, 0.34619216972043304, -0.18422008785696542, -0.8981716982442618, 0.919719482394534, 1.6531039793052502, -0.007267454447619382, 0.5620818199651831, 0.48749052711274116, -0.03006442966628201, -0.5871704170167122, -0.3126216982082369, 0.3374558912567569, 1.2204300571277322, 0.10279362055325551, -0.5465268227241421, 0.31678162104967333, -0.3901248745617539, -0.6835767868668985, 0.1153770715001513, -0.47618988854763955, -1.3900194500637881, -0.23722507554969344, -0.7947950414791287, 1.3228438449711777, 0.03491745015411229, -0.29903233604452334, 0.9115746977947242, 0.2300442910309674, 0.03875734348100329, -0.1857931932934108, -0.009035270546721555, 0.46895324085453266, -0.7265377294335539, -0.04422352185054902, -0.05442683113517881, -0.045361660455106985, 0.09259479204360142, 0.4894638544486283, 0.25556892438364776], [0.08338144806378152, 0.48554209133910936, -0.32789504447290735, -0.4869523558891879, -0.1378627024792714, -0.399599935016948, 0.8415920630434796, -0.37617347000212403, 0.4352720498500736, 0.0377927970244076, 0.9576767534532561, -0.7164814677299447, -1.2937993362234568, -0.9359263779747049, -0.09337826628211521, -0.09431652650913308, -0.5846172992400039, 0.695033086040223, 0.47638812627924887, 1.1735865566520165, -0.8587511271155258, -0.44659564209335023, 0.5531421740859889, -0.464352297003372, -0.26280264250332896, 0.1203499792462015, -1.3141126100807472, -0.1469439067103024, 0.11061578312196031, 1.05333211292358, 0.6513185232882971, 0.17982918547176263, -1.2862103786067642, -1.2068450773588817, 0.22875598736177474, 1.0577356049816966, 0.5095510313880792, -0.3312597373254218, -0.7231280541254845, 1.099459667957439, -0.7447575286459204, -0.6814805928279862, 0.05212840636507263, -0.791489095818453, -0.7142560912464913, -0.6501054028208745, -0.63258555300244, -0.08566299432810512, 0.2618547343655011, 0.6547439017220836, 0.5697424058968921, -0.7612789823937062, 0.6840262679542285, 0.28727548224485605, -0.2596799266124776, 1.3315289251261617, -0.07532698564866919, 0.5464431257460634, -0.9977361328758753, -1.6267645494171945, 0.11271710262845333, -0.5385937488685097, 0.10123074815049862, 0.844585234724388, 0.4946991115822799, 1.6924415713754057, 0.11444896042262388, 1.4752142065855829, 0.8126212278687113, 0.3019094221678002, 0.6701962195439828, 0.14425083446314957, 1.1784311920145099, 0.21556554957604862, 0.6120575489675072, 0.20093402432318636, -0.3547856742524049, -0.946984534285749, 1.0196910260158816, 0.8129945723138722, -0.03581470208895724, 1.4988067258375084, 0.4044120615947469, -0.11493656753391301, -0.3186264581328305, -0.583706966053203, -0.25108890369358283, 1.1706128263588989, -0.10708952549405777, -0.9242249026830872, -1.6332284155751422, -0.755342618389314, -0.5152499377464718, -0.4485208890183927, -0.10905009647971875, -0.306516902643507, 0.05702779352911368, -0.9989376670794848, 1.367535037101431, -0.5216786356117099, 0.45927052186440226, 0.5433137858292452, 0.2680568194690616, -0.3302655093133026, 0.21853999655216144, -0.12109739760804816, -1.0063320441266446, -1.0562694483328163, 0.8356859784891423, 1.0442563281469353, -0.1761677012131063, -0.46909955686664934, -0.37099603625163124, 1.0302396120259123, 0.7340741249822004, -0.14834469528334604, -0.136757390302998, -0.08657584216277162, -0.49215933853391514, 0.3819341581109205, 0.6675093279083686, 0.43666186628878323, -0.5651208607658301, -0.15677553428637248, 0.42649274838367335, -1.0939251098359524, -0.6568888583689239, 0.9726361526038502, -0.3935491893384051, 0.2564929525483493, 0.23981579365023778, -0.031335549013487896, -0.9849022726986447, 0.8995264758062795, -0.6153229590436216, -0.34170957719035516, 1.5858846427683984, 0.6688216599203922, 0.21512764715900873, -0.4672000440480803, 0.47685871146642284, -1.1279158480130682, -1.2819211999065971, 0.5060670282084115, -0.5498668357853819, 0.17378663046835496, 0.0019050944861100036, -0.2794485804484113, 0.3772027416161765, -0.11539034356325693, -0.6161134140494288, -1.139858317026817, 0.8025332428195652, 0.8285054850877571, 0.8965478631551683, -0.6139568287123625, -0.17157945397931776, 0.07783820511643084, 0.8276056165513644, 0.3527581405992959, -0.14455149184440644, -0.3337125135227509, 0.1775792578144538, 0.8657940912936815, -0.8865651133980809, -1.5935123099228672, 0.007005474712457125, -0.5418196982834663, -0.4699172983972945, 0.02898065660949224, 0.5660038928294792, 0.30135220208784536, -0.3252911634751678, -1.176435568348361, -0.09908808023194908, 0.5268254330135754, -0.3053621665783695, 0.37606151688204026, 0.6589349722016384, -0.11121791854594079, 0.459024029196499, 1.3399115436403242, 0.22867350320558152, 0.766143992342772, -1.2751575082126316, -0.03365873372047683, 0.2882527139957663, -0.8787139348370554, -0.22175157411416255, -0.03736020523212553, 0.17909565539691913, 0.008709563959633852, -0.4520482507059123, 0.7003472437120039, 0.042629336895438054, 0.052464833724767, 0.0437264474822287, -0.08925690265305515, -0.4718194905404439, -0.2463560865725125]]\n"
          ],
          "name": "stdout"
        }
      ]
    },
    {
      "cell_type": "code",
      "metadata": {
        "colab": {
          "base_uri": "https://localhost:8080/"
        },
        "id": "uP4h4ti9auu4",
        "outputId": "5bdfb1ff-9b73-4005-c07d-359a7978e085"
      },
      "source": [
        "Z_reconstructed=[]\n",
        "Z_reconstructed.append([item+muz[0] for item in X_reconstructed[0]])\n",
        "Z_reconstructed.append([item+muz[1] for item in X_reconstructed[1]])\n",
        "\n",
        "print(Z_reconstructed)"
      ],
      "execution_count": null,
      "outputs": [
        {
          "output_type": "stream",
          "text": [
            "[[0.7093229491556348, 0.29212293408290313, 1.135979713696108, 1.3009852005081775, 0.9388408407861262, 1.2103661110624004, -0.0772420349800006, 1.1860635799204005, 0.3442728955911311, 0.7566164529303219, -0.19766787823069276, 1.5390978814003138, 2.138005376364595, 1.7667492475710942, 0.8926928455452052, 0.893666193353847, 1.402302463943482, 0.07479772434806975, 0.30161922474388275, -0.4216519369770986, 1.686687917950512, 1.259119289744795, 0.22199484966563243, 1.2775399801330152, 1.0684530883613748, 0.6709719269349863, 2.1590782941181015, 0.9482616496231333, 0.6810701472299395, -0.29690040652532557, 0.12014705562640515, 0.6092684108183446, 2.13013261883595, 2.047799338763589, 0.5585119212729492, -0.30146857345995315, 0.26721614542070915, 1.1394702340447715, 1.545993026389683, -0.34475296737927064, 1.5684313660105078, 1.502788098777804, 0.7417447429979612, 1.6169105268999668, 1.5367892837840034, 1.4702395887165762, 1.4520645590846517, 0.8846890499741414, 0.5241753993388789, 0.11659358027246014, 0.20477382847043257, 1.5855706631243747, 0.08621615812115246, 0.4978040062755198, 1.0652135940485532, -0.5855007859628611, 0.8739665114837194, 0.22894441848874703, 1.8308704665605806, 2.48342229939259, 0.6788902458784756, 1.3545577971548362, 0.69080614899198, -0.0803471405920766, 0.2826234739856688, -0.9599102762322478, 0.6770936227878935, -0.7345593837967628, -0.04718779403502538, 0.4826228092625492, 0.10056340094983696, 0.6461772650915218, -0.42667774440020434, 0.5721956343240381, 0.16087625017165508, 0.5873743263668894, 1.1638759569931951, 1.7782209394354962, -0.2620012631117665, -0.047575100229087286, 0.832976609631528, -0.7590341790112918, 0.37628693719502887, 0.9150573502713302, 1.1263645153283859, 1.4013580875466236, 1.0563012975541415, -0.41856699979128464, 0.9069168568838093, 1.7546101788937698, 2.490127891060041, 1.579412300307121, 1.3303410108660254, 1.2611165340290809, 0.908950746222426, 1.1138021057113636, 0.7366621362514684, 1.832116933852292, -0.6228533979351585, 1.3370101190722186, 0.31937696643068886, 0.23219078454244968, 0.5177413784023339, 1.138438825455747, 0.5691099536538444, 0.9214485733876858, 1.839787834193021, 1.8915927189719741, -0.0711150839560949, -0.2874852198109439, 0.9785783096716034, 1.2824647705609973, 1.1806925286381276, -0.2729443285657569, 0.03429668997933111, 0.9497148226860862, 0.9376941938819296, 0.8856360350577147, 1.3063869057077993, 0.39960543399242815, 0.10335077273676152, 0.3428311049811509, 1.3820769282992065, 0.9584609449582508, 0.3533805115783143, 1.9306565677333425, 1.4772767212759497, -0.2131867054840948, 1.204089089104881, 0.5297376926471302, 0.5470385177278656, 0.8283299522277116, 1.8175566658470776, -0.13734298787539012, 1.4341564057627392, 1.1503108606004961, -0.8493684990486652, 0.10198936419430038, 0.5726499127275674, 1.280494222746861, 0.30113104135133834, 1.965918438125064, 2.125683040170605, 0.27083043787666117, 1.366252457262129, 0.6155369357987306, 0.7938462273755876, 1.085721524936939, 0.40451378856647624, 0.9155280959035733, 1.4349764209627631, 1.9783075128290515, -0.036722554372884075, -0.06366606574563671, -0.13425298574883027, 1.4327391870360366, 0.9738184783775614, 0.7150734895922911, -0.06273254533973882, 0.42987253036087786, 0.9457797669854315, 1.14201473531213, 0.6116024777347314, -0.10234913265256496, 1.715542047986231, 2.4489265448969473, 0.7885551111440775, 1.35790438555688, 1.283313092704438, 0.7657581359254149, 0.2086521485749846, 0.48320086738345996, 1.1332784568484537, 2.016252622719429, 0.8986161861449523, 0.24929574286755474, 1.11260418664137, 0.40569769102994296, 0.11224577872479835, 0.9111996370918481, 0.3196326770440573, -0.5941968844720913, 0.5585974900420034, 0.0010275241125681234, 2.1186664105628745, 0.8307400157458091, 0.4967902295471735, 1.707397263386421, 1.0258668566226643, 0.8345799090727002, 0.610029372298286, 0.7867872950449752, 1.2647758064462296, 0.06928483615814296, 0.7515990437411478, 0.7413957344565181, 0.7504609051365898, 0.8884173576352983, 1.2852864200403251, 1.0513914899753445], [0.844217827806678, 1.2463784710820058, 0.43294133526998907, 0.2738840238537085, 0.622973677263625, 0.3612364447259484, 1.602428442786376, 0.3846629097407724, 1.19610842959297, 0.798629176767304, 1.7185131331961525, 0.04435491201295172, -0.5329629564805604, -0.17508999823180849, 0.6674581134607812, 0.6665198532337633, 0.17621908050289248, 1.4558694657831195, 1.2372245060221454, 1.9344229363949128, -0.0979147473726294, 0.3142407376495462, 1.3139785538288853, 0.2964840827395244, 0.49803373723956745, 0.8811863589890979, -0.5532762303378508, 0.613892473032594, 0.8714521628648567, 1.8141684926664765, 1.4121549030311935, 0.940665565214659, -0.5253739988638678, -0.4460086976159853, 0.9895923671046711, 1.818571984724593, 1.2703874111309756, 0.4295766424174746, 0.037708325617411886, 1.8602960477003356, 0.016078851096976043, 0.07935578691491019, 0.8129647861079691, -0.03065271607555653, 0.046580288496405164, 0.11073097692202194, 0.1282508267404564, 0.6751733854147913, 1.0226911141083974, 1.41558028146498, 1.3305787856397884, -0.0004426026508097536, 1.444862647697125, 1.0481118619877525, 0.5011564531304189, 2.092365304869058, 0.6855093940942272, 1.3072795054889599, -0.23689975313297884, -0.8659281696742981, 0.8735534823713498, 0.22224263087438667, 0.862067127893395, 1.6054216144672844, 1.2555354913251764, 2.4532779511183023, 0.8752853401655203, 2.236050586328479, 1.5734576076116076, 1.0627458019106966, 1.4310325992868793, 0.905087214206046, 1.9392675717574064, 0.976401929318945, 1.3728939287104036, 0.9617704040660828, 0.4060507054904915, -0.1861481545428526, 1.7805274057587779, 1.5738309520567686, 0.7250216776539392, 2.259643105580405, 1.1652484413376434, 0.6458998122089834, 0.4422099216100659, 0.17712941368969337, 0.5097474760493136, 1.9314492061017954, 0.6537468542488386, -0.1633885229401908, -0.8723920358322458, 0.0054937613535823715, 0.24558644199642465, 0.3123154907245037, 0.6517862832631777, 0.4543194770993894, 0.8178641732720101, -0.23810128733658842, 2.1283714168443275, 0.2391577441311865, 1.2201069016072987, 1.3041501655721417, 1.028893199211958, 0.4305708704295938, 0.9793763762950578, 0.6397389821348483, -0.24549566438374815, -0.2954330685899199, 1.5965223582320387, 1.8050927078898318, 0.5846686785297901, 0.2917368228762471, 0.3898403434912652, 1.7910759917688086, 1.4949105047250968, 0.6124916844595504, 0.6240789894398984, 0.6742605375801248, 0.2686770412089813, 1.1427705378538169, 1.428345707651265, 1.1974982460316796, 0.1957155189770663, 0.6040608454565239, 1.1873291281265699, -0.33308873009305595, 0.10394752137397256, 1.7334725323467466, 0.3672871904044913, 1.0173293322912458, 1.0006521733931342, 0.7295008307294085, -0.2240658929557483, 1.660362855549176, 0.14551342069927486, 0.41912680255254126, 2.3467210225112947, 1.4296580396632885, 0.9759640269019052, 0.2936363356948161, 1.2376950912093192, -0.3670794682701718, -0.5210848201637007, 1.266903407951308, 0.21096954395751455, 0.9346230102112514, 0.7627414742290064, 0.4813877992944851, 1.138039121359073, 0.6454460361796395, 0.14472296569346765, -0.37902193728392064, 1.5633696225624616, 1.5893418648306534, 1.6573842428980647, 0.14687955103053396, 0.5892569257635787, 0.8386745848593272, 1.5884419962942609, 1.1135945203421924, 0.61628488789849, 0.42712386622014553, 0.9384156375573502, 1.6266304710365778, -0.12572873365518444, -0.8326759301799708, 0.7678418544553536, 0.2190166814594301, 0.2909190813456019, 0.7898170363523886, 1.3268402725723756, 1.0621885818307417, 0.43554521626772863, -0.4155991886054645, 0.6617482995109474, 1.2876618127564718, 0.4554742131645269, 1.1368978966249368, 1.4197713519445347, 0.6496184611969557, 1.2198604089393954, 2.1007479233832207, 0.989509882948478, 1.5269803720856685, -0.5143211284697352, 0.7271776460224196, 1.0490890937386628, -0.11787755509415898, 0.5390848056287338, 0.7234761745107708, 0.9399320351398155, 0.7695459437025303, 0.3087881290369841, 1.4611836234549003, 0.8034657166383344, 0.8133012134676634, 0.8045628272251251, 0.6715794770898412, 0.2890168892024525, 0.5144802931703839]]\n"
          ],
          "name": "stdout"
        }
      ]
    },
    {
      "cell_type": "code",
      "metadata": {
        "colab": {
          "base_uri": "https://localhost:8080/"
        },
        "id": "qo3LNNU9clNI",
        "outputId": "36b010c4-50aa-4963-c428-1257e2e076e1"
      },
      "source": [
        "a=Z_reconstructed-z\n",
        "a=a*a\n",
        "mean=[]\n",
        "mean.append(sum(a[0][i] for i in range(200))/200)\n",
        "mean.append(sum(a[1][i] for i in range(200))/200)\n",
        "mse=(mean[0]+mean[1])/2\n",
        "print(mse)"
      ],
      "execution_count": null,
      "outputs": [
        {
          "output_type": "stream",
          "text": [
            "1.1451583364693612\n"
          ],
          "name": "stdout"
        }
      ]
    },
    {
      "cell_type": "code",
      "metadata": {
        "id": "5lOF8qJXgsrq"
      },
      "source": [
        ""
      ],
      "execution_count": null,
      "outputs": []
    }
  ]
}