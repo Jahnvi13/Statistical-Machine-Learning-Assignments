{
  "nbformat": 4,
  "nbformat_minor": 0,
  "metadata": {
    "colab": {
      "name": "SML3 (1).ipynb",
      "provenance": [],
      "collapsed_sections": []
    },
    "kernelspec": {
      "name": "python3",
      "display_name": "Python 3"
    },
    "language_info": {
      "name": "python"
    }
  },
  "cells": [
    {
      "cell_type": "code",
      "metadata": {
        "id": "AKkw00dC3AqJ"
      },
      "source": [
        "from tensorflow.keras.datasets import mnist\n",
        "from numpy.linalg import inv,pinv,eig\n",
        "from matplotlib import pyplot as plt\n",
        "import numpy as np\n",
        "%matplotlib inline "
      ],
      "execution_count": null,
      "outputs": []
    },
    {
      "cell_type": "code",
      "metadata": {
        "id": "aM6ff5z53JkF",
        "colab": {
          "base_uri": "https://localhost:8080/"
        },
        "outputId": "84618e29-ebd1-4a60-dd4b-760bc15393a4"
      },
      "source": [
        "(x_train, y_train), (x_test, y_test)=mnist.load_data()"
      ],
      "execution_count": null,
      "outputs": [
        {
          "output_type": "stream",
          "text": [
            "Downloading data from https://storage.googleapis.com/tensorflow/tf-keras-datasets/mnist.npz\n",
            "11493376/11490434 [==============================] - 0s 0us/step\n"
          ],
          "name": "stdout"
        }
      ]
    },
    {
      "cell_type": "code",
      "metadata": {
        "id": "eB4ZpYrS30By"
      },
      "source": [
        "#Q1 a\n",
        "for i in range(10):\n",
        "  ct=0\n",
        "  j=0\n",
        "  while(ct<5):\n",
        "    if(y_train[j]==i):\n",
        "      plt.imshow(x_train[j], cmap='binary')\n",
        "      plt.show()\n",
        "      ct+=1\n",
        "    j+=1\n"
      ],
      "execution_count": null,
      "outputs": []
    },
    {
      "cell_type": "code",
      "metadata": {
        "id": "BxR6nvLrFUek"
      },
      "source": [
        "class DataSet:\n",
        "  def __init__(self, data, targets, valid_classes=None):\n",
        "    if valid_classes is None:\n",
        "      self.valid_classes = np.unique(targets)\n",
        "    else:\n",
        "      self.valid_classes = valid_classes\n",
        "    #print(self.valid_classes)\n",
        "    self.number_of_classes = len(self.valid_classes)\n",
        "    self.data = self.to_dict(data, targets)\n",
        "\n",
        "  def to_dict(self, data, targets):\n",
        "    data_dict = {}\n",
        "    for x, y in zip(data, targets):\n",
        "      if y in self.valid_classes:\n",
        "        if y not in data_dict:\n",
        "          data_dict[y] = [x.flatten()]\n",
        "        else:\n",
        "          data_dict[y].append(x.flatten())\n",
        "\n",
        "    for i in self.valid_classes:\n",
        "      data_dict[i] = np.asarray(data_dict[i])\n",
        "\n",
        "    return data_dict\n",
        "\n",
        "  def get_data_by_class(self, class_id):\n",
        "    if class_id in self.valid_classes:\n",
        "      return self.data[class_id]\n",
        "    else:\n",
        "      raise (\"Class not found.\")\n",
        "\n",
        "  def get_data_as_dict(self):\n",
        "    return self.data\n",
        "\n",
        "  def get_all_data(self):\n",
        "    data = []\n",
        "    labels = []\n",
        "    for label, class_i_data in self.data.items():\n",
        "      data.extend(class_i_data)\n",
        "      labels.extend(class_i_data.shape[0] * [label])\n",
        "    data = np.asarray(data)\n",
        "    labels = np.asarray(labels)\n",
        "    return data, labels"
      ],
      "execution_count": null,
      "outputs": []
    },
    {
      "cell_type": "code",
      "metadata": {
        "id": "ZOsz1LtSEzNo"
      },
      "source": [
        "\n",
        "class QDAClassifier:\n",
        "  \n",
        "  def __init__(self, projection_dim):\n",
        "    self.projection_dim = projection_dim\n",
        "    self.W = None # weights\n",
        "    self.X = None # weights\n",
        "    \n",
        "    self.g_means, self.g_covariance, self.priors = None, None, None\n",
        "  #Q1b\n",
        "  def fit(self,X):\n",
        "    means_k = self.__compute_means(X)\n",
        "\n",
        "    Sks = []\n",
        "    for class_i, m in means_k.items():\n",
        "      sub = np.subtract(X[class_i], m)\n",
        "      Sks.append(np.dot(np.transpose(sub), sub))\n",
        "\n",
        "    Sks = np.asarray(Sks)\n",
        "    Sw = np.sum(Sks, axis=0) # shape = (D,D)\n",
        "\n",
        "    Nk = {}\n",
        "    sum_ = 0\n",
        "    for class_id, data in X.items():\n",
        "      Nk[class_id] = data.shape[0]\n",
        "      sum_ += np.sum(data, axis=0)\n",
        "    print(Nk.values())\n",
        "    self.N=0\n",
        "    for i in Nk.values():\n",
        "      self.N+=i\n",
        "    \n",
        "    m = sum_ / self.N\n",
        "\n",
        "    SB = []\n",
        "    for class_id, mean_class_i in means_k.items():\n",
        "      sub_ = mean_class_i - m\n",
        "      SB.append(np.multiply(Nk[class_id], np.outer(sub_, sub_.T)))\n",
        "    \n",
        "    SB = np.sum(SB, axis=0)  # sum of K (# of classes) matrices\n",
        "    matrix = np.dot(pinv(Sw), SB)\n",
        "    eigen_values, eigen_vectors = eig(matrix)\n",
        "    print(\"eigen_values:\", eigen_values.shape)\n",
        "    print(\"eigen_vectors:\", eigen_vectors.shape)\n",
        "\n",
        "    eiglist = [(eigen_values[i], eigen_vectors[:, i]) for i in range(len(eigen_values))]\n",
        "\n",
        "    eiglist = sorted(eiglist, key=lambda x: x[0], reverse=True)\n",
        "\n",
        "    self.W = np.array([eiglist[i][1] for i in range(self.projection_dim)])\n",
        "    self.W = np.asarray(self.W).T\n",
        "    print(self.W)\n",
        "  \n",
        "  def __compute_means(self, X):\n",
        "    means_k = {}\n",
        "    for class_i, input_vectors in X.items():\n",
        "      means_k[class_i] = np.mean(input_vectors, axis=0)\n",
        "    return means_k\n",
        "  #Q1c\n",
        "  def showprojected(self, inputs):\n",
        "    self.X= np.matmul(inputs, self.W)#projected_data\n",
        "    print(self.X.shape)\n",
        "    print(self.X[0][0])\n",
        "    \n",
        "  def gaussian(self, X):\n",
        "    means = {}\n",
        "    covariance = {}\n",
        "    priors = {}  # p(Ck)\n",
        "    for class_id, values in X.items():\n",
        "      proj = np.dot(values, self.W)\n",
        "      means[class_id] = np.mean(proj, axis=0)\n",
        "      covariance[class_id] = np.cov(proj, rowvar=False)\n",
        "      priors[class_id] = values.shape[0] / self.N\n",
        "    return means, covariance, priors\n",
        "  #Q1d\n",
        "  def QDA(self, means, cov,priors, targets):\n",
        "    ct=0\n",
        "    myclass=-1\n",
        "    mydis=0\n",
        "    b=0\n",
        "    for inp,tgt in zip(self.X,targets):\n",
        "      #if(b==10):\n",
        "      #  print(ct)\n",
        "      #  return \n",
        "      for i in range(10):\n",
        "        \n",
        "        class_mean=np.matrix(means[i])\n",
        "        class_cov=np.matrix(cov[i])\n",
        "        #print(class_cov)\n",
        "        #print()\n",
        "        x=np.matrix(inp)\n",
        "        covdet=np.linalg.det(class_cov)\n",
        "        #print(covdet)\n",
        "        \n",
        "        if(covdet!=0):\n",
        "          covinv= inv(class_cov)\n",
        "          meanmat=np.matrix(means[i])\n",
        "          priormat=np.matrix(priors[i])\n",
        "          t1 = x*class_cov*np.transpose(x)\n",
        "          t2 = 2*meanmat*covinv*np.transpose(x)\n",
        "          t3 = meanmat*covinv*meanmat.T\n",
        "          gi=np.log(1/np.sqrt(covdet)) - 1/2*(t1-t2+t3) + np.log(priormat)\n",
        "          #print(gi)\n",
        "          if(gi>mydis):\n",
        "            mydis=gi\n",
        "            myclass=i\n",
        "      #print(myclass)\n",
        "      #print(tgt)\n",
        "      #print() \n",
        "      if(myclass==tgt):\n",
        "        ct+=1\n",
        "      #b+=1\n",
        "    print(ct)\n",
        "    return ct\n",
        "\n"
      ],
      "execution_count": null,
      "outputs": []
    },
    {
      "cell_type": "code",
      "metadata": {
        "colab": {
          "base_uri": "https://localhost:8080/"
        },
        "id": "5gV-RdO9FJDh",
        "outputId": "cee2c904-d52a-4ddf-b693-31c88796aee7"
      },
      "source": [
        "x_train, x_test = x_train / 255.0, x_test / 255.0\n",
        "train_dataset = DataSet(x_train, y_train)\n",
        "inputs, targets = train_dataset.get_all_data()\n",
        "\n",
        "print(inputs.shape,targets.shape)\n",
        "\n",
        "clf = QDAClassifier(projection_dim=9)\n",
        "clf.fit(train_dataset.get_data_as_dict())\n",
        "\n",
        "#acc = clf.score(inputs,targets)[0]\n",
        "#print(\"Train acc:\", acc)"
      ],
      "execution_count": null,
      "outputs": [
        {
          "output_type": "stream",
          "text": [
            "(60000, 784) (60000,)\n",
            "dict_values([5421, 5923, 5842, 6742, 5949, 5958, 6131, 5918, 6265, 5851])\n",
            "eigen_values: (784,)\n",
            "eigen_vectors: (784, 784)\n",
            "[[0.+0.j 0.+0.j 0.+0.j ... 0.+0.j 0.+0.j 0.+0.j]\n",
            " [0.+0.j 0.+0.j 0.+0.j ... 0.+0.j 0.+0.j 0.+0.j]\n",
            " [0.+0.j 0.+0.j 0.+0.j ... 0.+0.j 0.+0.j 0.+0.j]\n",
            " ...\n",
            " [0.+0.j 0.+0.j 0.+0.j ... 0.+0.j 0.+0.j 0.+0.j]\n",
            " [0.+0.j 0.+0.j 0.+0.j ... 0.+0.j 0.+0.j 0.+0.j]\n",
            " [0.+0.j 0.+0.j 0.+0.j ... 0.+0.j 0.+0.j 0.+0.j]]\n"
          ],
          "name": "stdout"
        }
      ]
    },
    {
      "cell_type": "code",
      "metadata": {
        "id": "7eE7etSz5Lrf",
        "colab": {
          "base_uri": "https://localhost:8080/"
        },
        "outputId": "d968225b-9f9d-49c0-f1d5-d8a0c0190552"
      },
      "source": [
        "clf.showprojected(inputs)"
      ],
      "execution_count": null,
      "outputs": [
        {
          "output_type": "stream",
          "text": [
            "(60000, 9)\n",
            "(0.009159458786770594+0j)\n"
          ],
          "name": "stdout"
        }
      ]
    },
    {
      "cell_type": "code",
      "metadata": {
        "id": "7AHWW6Ish9-u"
      },
      "source": [
        "means,cov,prior=clf.gaussian(train_dataset.get_data_as_dict())"
      ],
      "execution_count": null,
      "outputs": []
    },
    {
      "cell_type": "code",
      "metadata": {
        "colab": {
          "base_uri": "https://localhost:8080/"
        },
        "id": "Psh-UmNYz8aC",
        "outputId": "9aeea9d5-b0b1-4005-c25b-3736a691fca9"
      },
      "source": [
        "accu=clf.QDA(means, cov,prior, targets)"
      ],
      "execution_count": null,
      "outputs": [
        {
          "output_type": "stream",
          "text": [
            "6742\n"
          ],
          "name": "stdout"
        }
      ]
    },
    {
      "cell_type": "code",
      "metadata": {
        "colab": {
          "base_uri": "https://localhost:8080/"
        },
        "id": "v_3g-FTFV2Kg",
        "outputId": "a79d7fee-c0cd-4cfc-d343-462598dfe64b"
      },
      "source": [
        "print(accu/10000)"
      ],
      "execution_count": null,
      "outputs": [
        {
          "output_type": "stream",
          "text": [
            "0.6742\n"
          ],
          "name": "stdout"
        }
      ]
    },
    {
      "cell_type": "code",
      "metadata": {
        "id": "sXhsgiUxYTFv"
      },
      "source": [
        "#train_dataset.get_data_as_dict()"
      ],
      "execution_count": null,
      "outputs": []
    },
    {
      "cell_type": "code",
      "metadata": {
        "id": "6AADW3lHSTd3"
      },
      "source": [
        "#means,cov=clf.gaussian(train_dataset.get_data_as_dict())\n",
        "#print(means)\n",
        "#print()\n",
        "#print(cov)"
      ],
      "execution_count": null,
      "outputs": []
    },
    {
      "cell_type": "code",
      "metadata": {
        "id": "z3uteUdbE740"
      },
      "source": [
        "test_dataset = DataSet(x_test, y_test)\n",
        "inputs, targets = test_dataset.get_all_data()\n",
        "\n",
        "#acc = clf.score(inputs,targets)\n",
        "#print(\"Test acc:\", acc)"
      ],
      "execution_count": null,
      "outputs": []
    },
    {
      "cell_type": "code",
      "metadata": {
        "colab": {
          "base_uri": "https://localhost:8080/"
        },
        "id": "qZVjb0LKiu52",
        "outputId": "e934aa48-d4be-4930-b7ff-d4d1fc97d4ee"
      },
      "source": [
        "#2a\n",
        "a=0\n",
        "b=10\n",
        "X_train = np.random.uniform(a,b,5)\n",
        "var=(b-a)*(b-a+2)/12\n",
        "X_train"
      ],
      "execution_count": null,
      "outputs": [
        {
          "output_type": "execute_result",
          "data": {
            "text/plain": [
              "array([5.20559863, 9.60327113, 1.30836356, 5.18062716, 3.87771683])"
            ]
          },
          "metadata": {
            "tags": []
          },
          "execution_count": 14
        }
      ]
    },
    {
      "cell_type": "code",
      "metadata": {
        "colab": {
          "base_uri": "https://localhost:8080/"
        },
        "id": "EDrVhbbMka1f",
        "outputId": "e03db86f-c574-4fea-cca6-435b5934a482"
      },
      "source": [
        "Y_train = X_train*np.exp(X_train)\n",
        "Y_train"
      ],
      "execution_count": null,
      "outputs": [
        {
          "output_type": "execute_result",
          "data": {
            "text/plain": [
              "array([9.48928384e+02, 1.42254774e+05, 4.84109403e+00, 9.21085885e+02,\n",
              "       1.87347160e+02])"
            ]
          },
          "metadata": {
            "tags": []
          },
          "execution_count": 15
        }
      ]
    },
    {
      "cell_type": "code",
      "metadata": {
        "colab": {
          "base_uri": "https://localhost:8080/"
        },
        "id": "jNv_wPu8kyy4",
        "outputId": "89b2d677-cb9d-40fd-c375-8612ae00cd76"
      },
      "source": [
        "k=[]\n",
        "for i in range(5):\n",
        "  arr=[]\n",
        "  for j in range(5):\n",
        "    arr.append(var*np.exp(-np.square(X_train[i]-X_train[j])))\n",
        "  k.append(arr)\n",
        "k"
      ],
      "execution_count": null,
      "outputs": [
        {
          "output_type": "execute_result",
          "data": {
            "text/plain": [
              "[[10.0,\n",
              "  3.989805210639249e-08,\n",
              "  2.533633732357086e-06,\n",
              "  9.99376620352397,\n",
              "  1.7148318548837118],\n",
              " [3.989805210639249e-08,\n",
              "  10.0,\n",
              "  1.3126674999777046e-29,\n",
              "  3.201073404710148e-08,\n",
              "  5.793892815307393e-14],\n",
              " [2.533633732357086e-06,\n",
              "  1.3126674999777046e-29,\n",
              "  10.0,\n",
              "  3.0761237712057888e-06,\n",
              "  0.013582255054933852],\n",
              " [9.99376620352397,\n",
              "  3.201073404710148e-08,\n",
              "  3.0761237712057888e-06,\n",
              "  10.0,\n",
              "  1.831270088696969],\n",
              " [1.7148318548837118,\n",
              "  5.793892815307393e-14,\n",
              "  0.013582255054933852,\n",
              "  1.831270088696969,\n",
              "  10.0]]"
            ]
          },
          "metadata": {
            "tags": []
          },
          "execution_count": 16
        }
      ]
    },
    {
      "cell_type": "code",
      "metadata": {
        "colab": {
          "base_uri": "https://localhost:8080/"
        },
        "id": "csFj7TmNoxee",
        "outputId": "92fd9862-55e9-4b9b-ba81-953a8059a558"
      },
      "source": [
        "# var=1 and l=1\n",
        "#Q2b1\n",
        "var=1\n",
        "l=1\n",
        "sum=0\n",
        "for test in range(5):\n",
        "  k=[]\n",
        "  for i in range(5):\n",
        "    if i==test:\n",
        "      continue\n",
        "    arr=[]\n",
        "    for j in range(5):\n",
        "      if j==test:\n",
        "        continue\n",
        "      arr.append(var*np.exp(-np.square(X_train[i]-X_train[j])/(2*l*l)))\n",
        "    k.append(arr)\n",
        "\n",
        "  kst=[]\n",
        "  for i in range(5):\n",
        "    if i==test:\n",
        "      continue\n",
        "    #print(var*np.exp(-np.square(X_train[i]-X_train[test])))\n",
        "    kst.append(var*np.exp(-np.square(X_train[i]-X_train[test])/(2*l*l)))\n",
        "  #print()\n",
        "  y=[]\n",
        "  for i in range(5):\n",
        "    if i==test:\n",
        "      continue\n",
        "    y.append(Y_train[i])\n",
        "  \n",
        "  kst=np.matrix(kst)\n",
        "  y=np.matrix(y)\n",
        "  mu=kst*inv(k)*np.transpose(y)\n",
        "  sum+=(mu[0][0]-Y_train[test])*(mu[0][0]-Y_train[test])\n",
        "print(np.sqrt(sum/5))\n",
        "  "
      ],
      "execution_count": null,
      "outputs": [
        {
          "output_type": "stream",
          "text": [
            "[[63618.3150847]]\n"
          ],
          "name": "stdout"
        }
      ]
    },
    {
      "cell_type": "code",
      "metadata": {
        "colab": {
          "base_uri": "https://localhost:8080/"
        },
        "id": "aCRQMid2y63W",
        "outputId": "b0fcdd32-25a1-4c56-acb7-5044f823d4c8"
      },
      "source": [
        "#Q2b2\n",
        "var=0\n",
        "mini=100000\n",
        "while var<100:\n",
        "  L=1\n",
        "  while L<100:\n",
        "    sum=0\n",
        "    for test in range(5):\n",
        "      k=[]\n",
        "      for i in range(5):\n",
        "        if i==test:\n",
        "          continue\n",
        "        arr=[]\n",
        "        for j in range(5):\n",
        "          if j==test:\n",
        "            continue\n",
        "          arr.append(var*np.exp(-np.square(X_train[i]-X_train[j])/(2*L*L)))\n",
        "        k.append(arr)\n",
        "      kst=[]\n",
        "      for i in range(5):\n",
        "        if i==test:\n",
        "          continue\n",
        "        #print(var*np.exp(-np.square(X_train[i]-X_train[test])))\n",
        "        kst.append(var*np.exp(-np.square(X_train[i]-X_train[test])/(2*L*L)))\n",
        "      #print()\n",
        "      y=[]\n",
        "      for i in range(5):\n",
        "        if i==test:\n",
        "          continue\n",
        "        y.append(Y_train[i])\n",
        "      \n",
        "      kst=np.matrix(kst)\n",
        "      y=np.matrix(y)\n",
        "      mu=0\n",
        "      if(np.linalg.det(k)):\n",
        "        mu=kst*inv(k)*np.transpose(y)\n",
        "      sum+=(mu-Y_train[test])*(mu-Y_train[test])\n",
        "    #print(var, \" \", L, \" \", np.sqrt(sum/5))\n",
        "    if np.sqrt(sum/5)<mini : \n",
        "      mini=np.sqrt(sum/5)\n",
        "      myvar=var\n",
        "      myL=L\n",
        "    L+=1\n",
        "  var+=1\n",
        "\n",
        "print(myL)\n",
        "print(myvar)\n",
        "print(mini)\n",
        "\n",
        "    "
      ],
      "execution_count": null,
      "outputs": [
        {
          "output_type": "stream",
          "text": [
            "98\n",
            "69\n",
            "[[56408.8818566]]\n"
          ],
          "name": "stdout"
        }
      ]
    },
    {
      "cell_type": "code",
      "metadata": {
        "colab": {
          "base_uri": "https://localhost:8080/"
        },
        "id": "zkrzC3w2oldF",
        "outputId": "18ca2c2c-e044-4066-9149-0ae7e0891fb8"
      },
      "source": [
        "#2c\n",
        "a=0\n",
        "b=10\n",
        "X_test = np.random.uniform(a,b,50)\n",
        "var=(b-a)*(b-a+2)/12\n",
        "X_test"
      ],
      "execution_count": null,
      "outputs": [
        {
          "output_type": "execute_result",
          "data": {
            "text/plain": [
              "array([5.69214823, 7.94032564, 0.41738338, 9.61934788, 3.61228908,\n",
              "       2.80152379, 7.44789177, 2.14604236, 3.09424427, 4.12522372,\n",
              "       9.15070239, 4.72946719, 5.54074592, 2.03470556, 0.58229027,\n",
              "       9.00918485, 7.91553248, 4.98429936, 1.8865333 , 3.22700409,\n",
              "       0.76015165, 4.38912258, 1.1593877 , 2.80140729, 9.58897663,\n",
              "       2.64860875, 3.10027638, 9.10989633, 4.88158351, 0.16938418,\n",
              "       5.60355402, 2.61971479, 3.24762812, 7.36750773, 9.13379671,\n",
              "       1.41490913, 4.87790247, 2.56051152, 1.15887289, 3.42915685,\n",
              "       0.39147442, 6.4319324 , 6.2173625 , 5.82643062, 5.39594582,\n",
              "       4.34077573, 3.23772634, 4.82732136, 4.2973916 , 1.71682424])"
            ]
          },
          "metadata": {
            "tags": []
          },
          "execution_count": 19
        }
      ]
    },
    {
      "cell_type": "code",
      "metadata": {
        "colab": {
          "base_uri": "https://localhost:8080/"
        },
        "id": "sv2d6qZFuxoP",
        "outputId": "3dbf37b7-a440-4320-8b6a-9aa0360ad24b"
      },
      "source": [
        "Y_test = X_test*np.exp(X_test)\n",
        "Y_test"
      ],
      "execution_count": null,
      "outputs": [
        {
          "output_type": "execute_result",
          "data": {
            "text/plain": [
              "array([1.68789243e+03, 2.22986167e+04, 6.33581442e-01, 1.44802259e+05,\n",
              "       1.33838085e+02, 4.61403240e+01, 1.27823780e+04, 1.83507004e+01,\n",
              "       6.82916816e+01, 2.55275660e+02, 8.62092737e+04, 5.35542227e+02,\n",
              "       1.41215906e+03, 1.55654961e+01, 1.04237740e+00, 7.36757834e+04,\n",
              "       2.16846399e+04, 7.28211989e+02, 1.24444434e+01, 8.13335236e+01,\n",
              "       1.62566073e+00, 3.53630267e+02, 3.69610560e+00, 4.61330302e+01,\n",
              "       1.40027036e+05, 3.74363910e+01, 6.88388075e+01, 8.23931565e+04,\n",
              "       6.43584396e+02, 2.00648296e-01, 1.52074415e+03, 3.59734169e+01,\n",
              "       8.35590056e+01, 1.16677886e+04, 8.46074980e+04, 5.82392508e+00,\n",
              "       6.40736165e+02, 3.31392564e+01, 3.69256295e+00, 1.05791615e+02,\n",
              "       5.79053345e-01, 3.99663255e+03, 3.11725561e+03, 1.97601049e+03,\n",
              "       1.18986331e+03, 3.33228620e+02, 8.24834504e+01, 6.02816649e+02,\n",
              "       3.15891827e+02, 9.55725403e+00])"
            ]
          },
          "metadata": {
            "tags": []
          },
          "execution_count": 20
        }
      ]
    },
    {
      "cell_type": "code",
      "metadata": {
        "colab": {
          "base_uri": "https://localhost:8080/",
          "height": 265
        },
        "id": "boyWN27au1YU",
        "outputId": "e9a7c5cb-0ed6-4887-bfad-4b57cb1558a5"
      },
      "source": [
        "#2d\n",
        "sum=0\n",
        "xs=[]\n",
        "ys=[]\n",
        "for test in range(50):\n",
        "  k=[]\n",
        "  for i in range(5):\n",
        "    arr=[]\n",
        "    for j in range(5):\n",
        "      arr.append(myvar*np.exp(-np.square(X_train[i]-X_train[j])/(2*myL*myL)))\n",
        "    k.append(arr)\n",
        "\n",
        "  kst=[]\n",
        "  for i in range(5):\n",
        "    kst.append(myvar*np.exp(-np.square(X_train[i]-X_test[test])/(2*myL*myL)))\n",
        "  y=[]\n",
        "  for i in range(5):\n",
        "    y.append(Y_train[i])\n",
        "  \n",
        "  kst=np.matrix(kst)\n",
        "  y=np.matrix(y)\n",
        "  mu=kst*inv(k)*np.transpose(y)\n",
        "  temp=mu.item(0,0)\n",
        "  xs.append(temp)\n",
        "  \n",
        "#2e\n",
        "plt.scatter(X_test,Y_test, c='#9467bd')\n",
        "plt.scatter(X_test,xs, c='b')\n",
        "plt.show()\n",
        "\n"
      ],
      "execution_count": null,
      "outputs": [
        {
          "output_type": "display_data",
          "data": {
            "image/png": "[encoded data removed]",
            "text/plain": [
              "<Figure size 432x288 with 1 Axes>"
            ]
          },
          "metadata": {
            "tags": [],
            "needs_background": "light"
          }
        }
      ]
    },
    {
      "cell_type": "code",
      "metadata": {
        "colab": {
          "base_uri": "https://localhost:8080/"
        },
        "id": "WX4ZD_P9wR5j",
        "outputId": "ccfd4660-1a23-402b-c4bc-4f340d797a85"
      },
      "source": [
        "#Q3\n",
        "#b\n",
        "mean = [0,0]\n",
        "cov = [[0.2, 0.5],[0.5, 0.2]]\n",
        "X= np.random.multivariate_normal(mean, cov, 100)\n",
        "X_train=X[0:50]\n",
        "X_test=X[50:100]\n",
        "\n",
        "Y=np.random.multivariate_normal([1],[[0.5]],size=100)\n",
        "Y_train=Y[0:50]\n",
        "Y_test=Y[50:100]\n",
        "\n",
        "LR=0.001   \n",
        "b1=2\n",
        "b2=2\n",
        "b3=2\n",
        "b0=2\n",
        "B_star=0.2\n",
        "\n",
        "#c\n",
        "def sig(val):\n",
        "    res=1/(1+np.exp(-val))\n",
        "    return res\n",
        "\n",
        "def forward(X):\n",
        "    a1=b1*X[0]+b2*X[1]+b0\n",
        "    z1=sig(a1)\n",
        "    a2=b3*z1+B_star\n",
        "    z2=sig(a2)\n",
        "    return a1,a2,z1,z2\n",
        "\n",
        "def update(X,Y):\n",
        "    a1,a2,z1,z2=forward(X)\n",
        "    y_hat=z2 #predicted value\n",
        "    Error=(Y-y_hat)**2\n",
        "    b0_star=b0-LR*(-2*(Y-z2)*sig(a2)*(1-sig(a2))*b3*sig(a1)*(1-sig(a1)))\n",
        "    b1_star=b1-LR*(-2*(Y-z2)*sig(a2)*(1-sig(a2))*b3*sig(a1)*(1-sig(a1))*X[0])\n",
        "    b2_star=b2-LR*(-2*(Y-z2)*sig(a2)*(1-sig(a2))*b3*sig(a1)*(1-sig(a1))*X[1])\n",
        "    b3_star=b3-LR*(-2*(Y-z2)*sig(a2)*(1-sig(a2))*z1)\n",
        "    return b1_star,b2_star,b3_star,b0_star\n",
        "\n",
        "#d\n",
        "epoch=5\n",
        "for i in range(epoch):\n",
        "    for data,label in zip(X_train,Y_train):\n",
        "        b1,b2,b3,bo=update(data,label)\n",
        "#e\n",
        "Y_pred=[]\n",
        "for test_data,test_label in zip(X_test,Y_test):\n",
        "    a1,a2,z1,z2=forward(test_data)\n",
        "    Y_pred.append(z2)\n",
        "\n",
        "a=Y_test-Y_pred\n",
        "\n",
        "#print(a)\n",
        "mean=[]\n",
        "sum=0\n",
        "for i in range(50):\n",
        "  sum+=a[i]*a[i]\n",
        "print(sum/100)"
      ],
      "execution_count": null,
      "outputs": [
        {
          "output_type": "stream",
          "text": [
            "[0.31292223]\n"
          ],
          "name": "stdout"
        },
        {
          "output_type": "stream",
          "text": [
            "/usr/local/lib/python3.7/dist-packages/ipykernel_launcher.py:5: RuntimeWarning: covariance is not positive-semidefinite.\n",
            "  \"\"\"\n"
          ],
          "name": "stderr"
        }
      ]
    },
    {
      "cell_type": "code",
      "metadata": {
        "id": "Fai_I9nwdBAy"
      },
      "source": [
        ""
      ],
      "execution_count": null,
      "outputs": []
    }
  ]
}