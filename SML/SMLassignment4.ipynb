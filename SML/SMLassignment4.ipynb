{
  "nbformat": 4,
  "nbformat_minor": 0,
  "metadata": {
    "colab": {
      "name": "SML4.ipynb",
      "provenance": [],
      "collapsed_sections": []
    },
    "kernelspec": {
      "display_name": "Python 3",
      "name": "python3"
    },
    "language_info": {
      "name": "python"
    }
  },
  "cells": [
    {
      "cell_type": "code",
      "metadata": {
        "id": "Uqga3MyvBJ0J"
      },
      "source": [
        "import numpy as np\n",
        "import torch\n",
        "import matplotlib.pyplot as plt\n",
        "from sklearn import *\n",
        "from keras.layers import Input, add\n",
        "from keras.layers.core import Dense, Dropout, Activation, Flatten, Reshape\n",
        "from keras.models import Model"
      ],
      "execution_count": null,
      "outputs": []
    },
    {
      "cell_type": "code",
      "metadata": {
        "id": "dtCf2sTZBhg3"
      },
      "source": [
        "mean = [0, 0, 0]\n",
        "cov = [[1, 0.8, 0.8], [0.8, 1, 0.8], [0.8, 0.8, 1]] \n",
        "X1,X2,X3=np.random.multivariate_normal(mean, cov, 1000).T "
      ],
      "execution_count": null,
      "outputs": []
    },
    {
      "cell_type": "code",
      "metadata": {
        "id": "ll7_3PUzZVXq"
      },
      "source": [
        "x_train=[]\n",
        "for i in range(800):\n",
        "  x_train.append([X1[i], X2[i], X3[i]])\n",
        "#now data is the 2x1 matrix containing all the points of class 1\n",
        "\n",
        "x_test=[]\n",
        "for i in range(801, 1000):\n",
        "  x_test.append([X1[i], X2[i], X3[i]])"
      ],
      "execution_count": null,
      "outputs": []
    },
    {
      "cell_type": "code",
      "metadata": {
        "colab": {
          "base_uri": "https://localhost:8080/"
        },
        "id": "7LPrluPPbVhe",
        "outputId": "ad39e9e3-4a0d-4153-dbbf-25c99a5fdd89"
      },
      "source": [
        "def NormalizeData(data):\n",
        "    return (data - np.min(data)) / (np.max(data) - np.min(data))\n",
        "\n",
        "NormalizeData(x_train)\n"
      ],
      "execution_count": null,
      "outputs": [
        {
          "output_type": "execute_result",
          "data": {
            "text/plain": [
              "array([[0.70795217, 0.73747986, 0.6380407 ],\n",
              "       [0.33423602, 0.53077878, 0.62291553],\n",
              "       [0.42503284, 0.40769468, 0.50768158],\n",
              "       ...,\n",
              "       [0.50302025, 0.41086586, 0.4742622 ],\n",
              "       [0.58252542, 0.58373893, 0.61851332],\n",
              "       [0.67916985, 0.51597767, 0.47568535]])"
            ]
          },
          "metadata": {
            "tags": []
          },
          "execution_count": 218
        }
      ]
    },
    {
      "cell_type": "code",
      "metadata": {
        "id": "UmF8tB3u2UNJ"
      },
      "source": [
        "lr=0.01\n",
        "def sig(val):\n",
        "  res=1/(1+np.exp(-val))\n",
        "  return res\n",
        "\n",
        "def sigder(val):\n",
        "  res=sig(val)*(1-sig(val))\n",
        "  return res\n",
        "\n",
        "def make_a(start, skip_size, w1, x):\n",
        "  a=0\n",
        "  ct=0\n",
        "  for i in range(start,6,skip_size):\n",
        "    a+=w1[i]*x[ct]\n",
        "    ct+=1\n",
        "  return a\n",
        "\n",
        "def make_del(a, x):\n",
        "  res=-2*(x-sig(a))*sigder(a)\n",
        "  return res\n",
        "\n",
        "def updwts(w2, delta2, z1):\n",
        "  arr=[]\n",
        "  for i in range(6):\n",
        "    arr.append(w2[i]-lr*delta2[i%3]*z1[i//3])\n",
        "  return arr\n",
        "\n",
        "def updwts2(w1, delta1, x):\n",
        "  arr=[]\n",
        "  for i in range(6):\n",
        "    arr.append(w1[i]-lr*delta1[i%2]*x[i//3])\n",
        "  return arr\n"
      ],
      "execution_count": null,
      "outputs": []
    },
    {
      "cell_type": "code",
      "metadata": {
        "colab": {
          "base_uri": "https://localhost:8080/",
          "height": 547
        },
        "id": "bhumyUgs5IUY",
        "outputId": "bf50f3a5-a909-4e6e-992c-638ebc3633c7"
      },
      "source": [
        "epoch=100\n",
        "\n",
        "import random\n",
        "\n",
        "w1=np.array([1,1,1,1,1,1])\n",
        "w2=np.array([1,1,1,1,1,1])\n",
        "er=[]\n",
        "ep=[]\n",
        "er2=[]\n",
        "ep2=[]\n",
        "mini=10\n",
        "for e in range(epoch):\n",
        "  sum=0\n",
        "  for x1,x2,x3 in x_train:\n",
        "    \n",
        "    a1=[]\n",
        "    a2=[]\n",
        "    x=[x1,x2,x3]\n",
        "    a1.append(make_a(0, 2, w1, x))\n",
        "    a1.append(make_a(1, 2, w1, x))\n",
        "\n",
        "    z1=[0,0]\n",
        "    z1[0]=sig(a1[0])\n",
        "    z1[1]=sig(a1[1])\n",
        "\n",
        "    a2.append(make_a(0, 3, w2, z1))\n",
        "    a2.append(make_a(1, 3, w2, z1))\n",
        "    a2.append(make_a(2, 3, w2, z1))\n",
        "\n",
        "    z2=[0,0,0]\n",
        "    z2[0]=sig(a2[0])\n",
        "    z2[1]=sig(a2[1])\n",
        "    z2[2]=sig(a2[2])\n",
        "\n",
        "    delta2=[]\n",
        "    delta2.append(make_del(a2[0], x[0]))\n",
        "    delta2.append(make_del(a2[1], x[1]))\n",
        "    delta2.append(make_del(a2[2], x[2]))\n",
        "\n",
        "    w2new=[]\n",
        "    w2new=w2new + updwts(w2, delta2, z1)\n",
        "\n",
        "    delta1=[]\n",
        "    delta1.append(delta2[0]*w2[0]*sigder(a1[0]) + delta2[1]*w2[1]*sigder(a1[0]) + delta2[2]*w2[2]*sigder(a1[0]))\n",
        "    delta1.append(delta2[0]*w2[3]*sigder(a1[1]) + delta2[1]*w2[4]*sigder(a1[1]) + delta2[2]*w2[5]*sigder(a1[1]))\n",
        "\n",
        "    w1new=[]\n",
        "    w1new+=updwts2(w1, delta1, x)\n",
        "    w1=w1new\n",
        "    w2=w2new\n",
        "    sum+=((z2[0]-x1)*(z2[0]-x1) + (z2[1]-x2)*(z2[1]-x2) + (z2[2]-x3)*(z2[2]-x3))/3\n",
        "  er2.append(sum/200)\n",
        "  if(sum/200<mini):\n",
        "    mini=sum/200\n",
        "  ep2.append(e)\n",
        "\n",
        "  sum=0\n",
        "  for x1,x2,x3 in x_test:\n",
        "    \n",
        "    a1=[]\n",
        "    a2=[]\n",
        "    x=[x1,x2,x3]\n",
        "    a1.append(make_a(0, 2, w1, x))\n",
        "    a1.append(make_a(1, 2, w1, x))\n",
        "\n",
        "    z1=[0,0]\n",
        "    z1[0]=sig(a1[0])\n",
        "    z1[1]=sig(a1[1])\n",
        "\n",
        "    a2.append(make_a(0, 3, w2, z1))\n",
        "    a2.append(make_a(1, 3, w2, z1))\n",
        "    a2.append(make_a(2, 3, w2, z1))\n",
        "\n",
        "    z2=[0,0,0]\n",
        "    z2[0]=sig(a2[0])\n",
        "    z2[1]=sig(a2[1])\n",
        "    z2[2]=sig(a2[2])\n",
        "\n",
        "    sum+=((z2[0]-x1)*(z2[0]-x1) + (z2[1]-x2)*(z2[1]-x2) + (z2[2]-x3)*(z2[2]-x3))/3\n",
        "  \n",
        "  er.append(sum/200)\n",
        "  if(sum/200<mini):\n",
        "    mini=sum/200\n",
        "  ep.append(e)\n",
        "  #print(sum/200)\n",
        "  random.shuffle(x_train)\n",
        "  random.shuffle(x_test)\n",
        "print(w1)\n",
        "print(w2)\n",
        "  \n",
        "plt.plot(ep, er, '.')\n",
        "#plt.axis('equal')\n",
        "plt.show()\n",
        "plt.plot(ep2, er2, '.')\n",
        "#plt.axis('equal')\n",
        "plt.show()\n",
        "\n",
        "\n",
        "\n"
      ],
      "execution_count": null,
      "outputs": [
        {
          "output_type": "stream",
          "text": [
            "[2.742593570015999, 3.2895925396125594, 2.742593570015999, 2.2794154764052403, 3.1040970243792607, 2.2794154764052403]\n",
            "[0.07267399465313995, 0.7828870223828084, 0.7749589801792761, 0.680760768944713, 0.0077822401157984535, 0.01191330121173635]\n"
          ],
          "name": "stdout"
        },
        {
          "output_type": "display_data",
          "data": {
            "image/png": "[encoded data removed]",
            "text/plain": [
              "<Figure size 432x288 with 1 Axes>"
            ]
          },
          "metadata": {
            "tags": [],
            "needs_background": "light"
          }
        },
        {
          "output_type": "display_data",
          "data": {
            "image/png": "[encoded data removed]",
            "text/plain": [
              "<Figure size 432x288 with 1 Axes>"
            ]
          },
          "metadata": {
            "tags": [],
            "needs_background": "light"
          }
        }
      ]
    },
    {
      "cell_type": "code",
      "metadata": {
        "colab": {
          "base_uri": "https://localhost:8080/"
        },
        "id": "o4BnJdKGlf8G",
        "outputId": "649e7bd7-55d1-4561-fa34-6463fd699203"
      },
      "source": [
        "print(mini)"
      ],
      "execution_count": null,
      "outputs": [
        {
          "output_type": "stream",
          "text": [
            "1.1497906963989395\n"
          ],
          "name": "stdout"
        }
      ]
    },
    {
      "cell_type": "code",
      "metadata": {
        "colab": {
          "base_uri": "https://localhost:8080/"
        },
        "id": "DYgFZKkYkdJW",
        "outputId": "d9dcdfdb-ca1b-43d6-8705-87cc4af2d5e6"
      },
      "source": [
        "def sigm(a):\n",
        "  res=1/(1+torch.exp(a))\n",
        "  return res\n",
        "  \n",
        "def error(y, y_pred):\n",
        "  return ((y_pred - y)**2).mean()\n",
        "\n",
        "def forward(x,wts1,wts2):\n",
        "    a1=torch.mm(x, wts1)\n",
        "    z1=sigm(a1)\n",
        "    a2=torch.mm(z1, wts2)\n",
        "    z2=sigm(a2)\n",
        "    return a1,z1,a2,z2 \n",
        "\n",
        "import torch\n",
        "er=[]\n",
        "ep=[]\n",
        "ert=[]\n",
        "lr=0.1\n",
        "epoch=100\n",
        "wts1=torch.ones(3, 2,requires_grad=True, dtype=torch.float32)\n",
        "wts2=torch.ones(2, 3,requires_grad=True, dtype=torch.float32)\n",
        "\n",
        "for epo in range(epoch):\n",
        "  x=torch.tensor(x_train, dtype=torch.float32)\n",
        "  x_test=torch.tensor(x_test, dtype=torch.float32)\n",
        "\n",
        "  a1,z1,a2,z2= forward(x, wts1, wts2)\n",
        "  a21,z21,a22,z22 = forward(x_test, wts1, wts2)\n",
        "  \n",
        "  e=error(z2, x)\n",
        "  er2=error(z22, x_test)\n",
        "  e.backward()\n",
        "\n",
        "  #print(wts1.grad)\n",
        "  with torch.no_grad():\n",
        "    wts1-=lr*wts1.grad\n",
        "    wts2-=lr*wts2.grad\n",
        "  \n",
        "  er.append(e)\n",
        "  ert.append(er2)\n",
        "  ep.append(epo)\n"
      ],
      "execution_count": null,
      "outputs": [
        {
          "output_type": "stream",
          "text": [
            "/usr/local/lib/python3.7/dist-packages/ipykernel_launcher.py:26: UserWarning: To copy construct from a tensor, it is recommended to use sourceTensor.clone().detach() or sourceTensor.clone().detach().requires_grad_(True), rather than torch.tensor(sourceTensor).\n"
          ],
          "name": "stderr"
        }
      ]
    },
    {
      "cell_type": "code",
      "metadata": {
        "colab": {
          "base_uri": "https://localhost:8080/",
          "height": 265
        },
        "id": "pw3KcKXMn42V",
        "outputId": "cb7feceb-e025-4da1-85a3-ba71ad2764a4"
      },
      "source": [
        "plt.plot(ep, er)\n",
        "plt.show()"
      ],
      "execution_count": null,
      "outputs": [
        {
          "output_type": "display_data",
          "data": {
            "image/png": "[encoded data removed]",
            "text/plain": [
              "<Figure size 432x288 with 1 Axes>"
            ]
          },
          "metadata": {
            "tags": [],
            "needs_background": "light"
          }
        }
      ]
    },
    {
      "cell_type": "code",
      "metadata": {
        "colab": {
          "base_uri": "https://localhost:8080/",
          "height": 265
        },
        "id": "YhAlRADYvw1G",
        "outputId": "619b298b-14e4-4243-df9b-2cd803c2639f"
      },
      "source": [
        "plt.plot(ep, ert)\n",
        "plt.show()"
      ],
      "execution_count": null,
      "outputs": [
        {
          "output_type": "display_data",
          "data": {
            "image/png": "[encoded data removed]",
            "text/plain": [
              "<Figure size 432x288 with 1 Axes>"
            ]
          },
          "metadata": {
            "tags": [],
            "needs_background": "light"
          }
        }
      ]
    },
    {
      "cell_type": "markdown",
      "metadata": {
        "id": "HpDDE6bHySi-"
      },
      "source": [
        "Result: Autograd performs better "
      ]
    },
    {
      "cell_type": "code",
      "metadata": {
        "id": "uzBbu3oNyAdg"
      },
      "source": [
        ""
      ],
      "execution_count": null,
      "outputs": []
    }
  ]
}